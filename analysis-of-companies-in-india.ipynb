{
 "cells": [
  {
   "cell_type": "code",
   "execution_count": 1,
   "id": "eb37ccb8",
   "metadata": {
    "_cell_guid": "b1076dfc-b9ad-4769-8c92-a6c4dae69d19",
    "_uuid": "8f2839f25d086af736a60e9eeb907d3b93b6e0e5",
    "execution": {
     "iopub.execute_input": "2024-10-31T16:29:32.643864Z",
     "iopub.status.busy": "2024-10-31T16:29:32.643302Z",
     "iopub.status.idle": "2024-10-31T16:29:33.708500Z",
     "shell.execute_reply": "2024-10-31T16:29:33.706996Z"
    },
    "papermill": {
     "duration": 1.075534,
     "end_time": "2024-10-31T16:29:33.711188",
     "exception": false,
     "start_time": "2024-10-31T16:29:32.635654",
     "status": "completed"
    },
    "tags": []
   },
   "outputs": [
    {
     "name": "stdout",
     "output_type": "stream",
     "text": [
      "/kaggle/input/companies-in-india/notable_companies (1).csv\n"
     ]
    }
   ],
   "source": [
    "# This Python 3 environment comes with many helpful analytics libraries installed\n",
    "# It is defined by the kaggle/python Docker image: https://github.com/kaggle/docker-python\n",
    "# For example, here's several helpful packages to load\n",
    "\n",
    "import numpy as np # linear algebra\n",
    "import pandas as pd # data processing, CSV file I/O (e.g. pd.read_csv)\n",
    "\n",
    "# Input data files are available in the read-only \"../input/\" directory\n",
    "# For example, running this (by clicking run or pressing Shift+Enter) will list all files under the input directory\n",
    "\n",
    "import os\n",
    "for dirname, _, filenames in os.walk('/kaggle/input'):\n",
    "    for filename in filenames:\n",
    "        print(os.path.join(dirname, filename))\n",
    "\n",
    "# You can write up to 20GB to the current directory (/kaggle/working/) that gets preserved as output when you create a version using \"Save & Run All\" \n",
    "# You can also write temporary files to /kaggle/temp/, but they won't be saved outside of the current session"
   ]
  },
  {
   "cell_type": "code",
   "execution_count": 2,
   "id": "00ce545b",
   "metadata": {
    "execution": {
     "iopub.execute_input": "2024-10-31T16:29:33.723968Z",
     "iopub.status.busy": "2024-10-31T16:29:33.723355Z",
     "iopub.status.idle": "2024-10-31T16:29:33.765815Z",
     "shell.execute_reply": "2024-10-31T16:29:33.764642Z"
    },
    "papermill": {
     "duration": 0.05174,
     "end_time": "2024-10-31T16:29:33.768431",
     "exception": false,
     "start_time": "2024-10-31T16:29:33.716691",
     "status": "completed"
    },
    "tags": []
   },
   "outputs": [
    {
     "data": {
      "text/html": [
       "<div>\n",
       "<style scoped>\n",
       "    .dataframe tbody tr th:only-of-type {\n",
       "        vertical-align: middle;\n",
       "    }\n",
       "\n",
       "    .dataframe tbody tr th {\n",
       "        vertical-align: top;\n",
       "    }\n",
       "\n",
       "    .dataframe thead th {\n",
       "        text-align: right;\n",
       "    }\n",
       "</style>\n",
       "<table border=\"1\" class=\"dataframe\">\n",
       "  <thead>\n",
       "    <tr style=\"text-align: right;\">\n",
       "      <th></th>\n",
       "      <th>Name</th>\n",
       "      <th>Industry</th>\n",
       "      <th>Sector</th>\n",
       "      <th>Headquarters</th>\n",
       "      <th>Founded</th>\n",
       "      <th>Notes</th>\n",
       "      <th>Private/State</th>\n",
       "      <th>Active/Defunct</th>\n",
       "    </tr>\n",
       "  </thead>\n",
       "  <tbody>\n",
       "    <tr>\n",
       "      <th>0</th>\n",
       "      <td>63 Moons Technologies</td>\n",
       "      <td>Technology</td>\n",
       "      <td>Software</td>\n",
       "      <td>Mumbai</td>\n",
       "      <td>1988</td>\n",
       "      <td>Financial technology</td>\n",
       "      <td>P</td>\n",
       "      <td>A</td>\n",
       "    </tr>\n",
       "    <tr>\n",
       "      <th>1</th>\n",
       "      <td>Aban Offshore</td>\n",
       "      <td>Energy</td>\n",
       "      <td>Oil &amp; gas offshore drilling &amp; other services</td>\n",
       "      <td>Chennai</td>\n",
       "      <td>1986</td>\n",
       "      <td>Oil, petrochemical</td>\n",
       "      <td>P</td>\n",
       "      <td>A</td>\n",
       "    </tr>\n",
       "    <tr>\n",
       "      <th>2</th>\n",
       "      <td>ABG Shipyard</td>\n",
       "      <td>Industrials</td>\n",
       "      <td>Shipbuilding</td>\n",
       "      <td>Ahmedabad</td>\n",
       "      <td>1985</td>\n",
       "      <td>Ship engineering</td>\n",
       "      <td>P</td>\n",
       "      <td>A</td>\n",
       "    </tr>\n",
       "    <tr>\n",
       "      <th>3</th>\n",
       "      <td>ABP Group</td>\n",
       "      <td>Consumer services</td>\n",
       "      <td>Broadcasting &amp; entertainment</td>\n",
       "      <td>Kolkata</td>\n",
       "      <td>1922</td>\n",
       "      <td>Media, news</td>\n",
       "      <td>P</td>\n",
       "      <td>A</td>\n",
       "    </tr>\n",
       "    <tr>\n",
       "      <th>4</th>\n",
       "      <td>ACC</td>\n",
       "      <td>Industrials</td>\n",
       "      <td>Cement</td>\n",
       "      <td>Mumbai</td>\n",
       "      <td>1936</td>\n",
       "      <td>Cement</td>\n",
       "      <td>P</td>\n",
       "      <td>A</td>\n",
       "    </tr>\n",
       "  </tbody>\n",
       "</table>\n",
       "</div>"
      ],
      "text/plain": [
       "                    Name           Industry  \\\n",
       "0  63 Moons Technologies         Technology   \n",
       "1          Aban Offshore             Energy   \n",
       "2           ABG Shipyard        Industrials   \n",
       "3              ABP Group  Consumer services   \n",
       "4                    ACC        Industrials   \n",
       "\n",
       "                                         Sector Headquarters Founded  \\\n",
       "0                                      Software       Mumbai    1988   \n",
       "1  Oil & gas offshore drilling & other services      Chennai    1986   \n",
       "2                                  Shipbuilding    Ahmedabad    1985   \n",
       "3                  Broadcasting & entertainment      Kolkata    1922   \n",
       "4                                        Cement       Mumbai    1936   \n",
       "\n",
       "                  Notes Private/State Active/Defunct  \n",
       "0  Financial technology             P              A  \n",
       "1    Oil, petrochemical             P              A  \n",
       "2      Ship engineering             P              A  \n",
       "3           Media, news             P              A  \n",
       "4                Cement             P              A  "
      ]
     },
     "execution_count": 2,
     "metadata": {},
     "output_type": "execute_result"
    }
   ],
   "source": [
    "df = pd.read_csv('/kaggle/input/companies-in-india/notable_companies (1).csv')\n",
    "\n",
    "df.head()"
   ]
  },
  {
   "cell_type": "code",
   "execution_count": 3,
   "id": "ab100406",
   "metadata": {
    "execution": {
     "iopub.execute_input": "2024-10-31T16:29:33.782945Z",
     "iopub.status.busy": "2024-10-31T16:29:33.782467Z",
     "iopub.status.idle": "2024-10-31T16:29:33.790100Z",
     "shell.execute_reply": "2024-10-31T16:29:33.788895Z"
    },
    "papermill": {
     "duration": 0.018514,
     "end_time": "2024-10-31T16:29:33.792647",
     "exception": false,
     "start_time": "2024-10-31T16:29:33.774133",
     "status": "completed"
    },
    "tags": []
   },
   "outputs": [
    {
     "data": {
      "text/plain": [
       "(493, 8)"
      ]
     },
     "execution_count": 3,
     "metadata": {},
     "output_type": "execute_result"
    }
   ],
   "source": [
    "df.shape"
   ]
  },
  {
   "cell_type": "code",
   "execution_count": 4,
   "id": "11fd8e12",
   "metadata": {
    "execution": {
     "iopub.execute_input": "2024-10-31T16:29:33.805824Z",
     "iopub.status.busy": "2024-10-31T16:29:33.805375Z",
     "iopub.status.idle": "2024-10-31T16:29:33.860895Z",
     "shell.execute_reply": "2024-10-31T16:29:33.859664Z"
    },
    "papermill": {
     "duration": 0.065628,
     "end_time": "2024-10-31T16:29:33.863969",
     "exception": false,
     "start_time": "2024-10-31T16:29:33.798341",
     "status": "completed"
    },
    "tags": []
   },
   "outputs": [
    {
     "name": "stdout",
     "output_type": "stream",
     "text": [
      "<class 'pandas.core.frame.DataFrame'>\n",
      "RangeIndex: 493 entries, 0 to 492\n",
      "Data columns (total 8 columns):\n",
      " #   Column          Non-Null Count  Dtype \n",
      "---  ------          --------------  ----- \n",
      " 0   Name            493 non-null    object\n",
      " 1   Industry        493 non-null    object\n",
      " 2   Sector          448 non-null    object\n",
      " 3   Headquarters    493 non-null    object\n",
      " 4   Founded         493 non-null    object\n",
      " 5   Notes           490 non-null    object\n",
      " 6   Private/State   493 non-null    object\n",
      " 7   Active/Defunct  493 non-null    object\n",
      "dtypes: object(8)\n",
      "memory usage: 30.9+ KB\n"
     ]
    },
    {
     "data": {
      "text/html": [
       "<div>\n",
       "<style scoped>\n",
       "    .dataframe tbody tr th:only-of-type {\n",
       "        vertical-align: middle;\n",
       "    }\n",
       "\n",
       "    .dataframe tbody tr th {\n",
       "        vertical-align: top;\n",
       "    }\n",
       "\n",
       "    .dataframe thead th {\n",
       "        text-align: right;\n",
       "    }\n",
       "</style>\n",
       "<table border=\"1\" class=\"dataframe\">\n",
       "  <thead>\n",
       "    <tr style=\"text-align: right;\">\n",
       "      <th></th>\n",
       "      <th>Name</th>\n",
       "      <th>Industry</th>\n",
       "      <th>Sector</th>\n",
       "      <th>Headquarters</th>\n",
       "      <th>Founded</th>\n",
       "      <th>Notes</th>\n",
       "      <th>Private/State</th>\n",
       "      <th>Active/Defunct</th>\n",
       "    </tr>\n",
       "  </thead>\n",
       "  <tbody>\n",
       "    <tr>\n",
       "      <th>count</th>\n",
       "      <td>493</td>\n",
       "      <td>493</td>\n",
       "      <td>448</td>\n",
       "      <td>493</td>\n",
       "      <td>493</td>\n",
       "      <td>490</td>\n",
       "      <td>493</td>\n",
       "      <td>493</td>\n",
       "    </tr>\n",
       "    <tr>\n",
       "      <th>unique</th>\n",
       "      <td>493</td>\n",
       "      <td>19</td>\n",
       "      <td>101</td>\n",
       "      <td>61</td>\n",
       "      <td>133</td>\n",
       "      <td>371</td>\n",
       "      <td>2</td>\n",
       "      <td>2</td>\n",
       "    </tr>\n",
       "    <tr>\n",
       "      <th>top</th>\n",
       "      <td>63 Moons Technologies</td>\n",
       "      <td>Industrials</td>\n",
       "      <td>Banks</td>\n",
       "      <td>Mumbai</td>\n",
       "      <td>1986</td>\n",
       "      <td>Pharma</td>\n",
       "      <td>P</td>\n",
       "      <td>A</td>\n",
       "    </tr>\n",
       "    <tr>\n",
       "      <th>freq</th>\n",
       "      <td>1</td>\n",
       "      <td>112</td>\n",
       "      <td>31</td>\n",
       "      <td>149</td>\n",
       "      <td>12</td>\n",
       "      <td>11</td>\n",
       "      <td>390</td>\n",
       "      <td>484</td>\n",
       "    </tr>\n",
       "  </tbody>\n",
       "</table>\n",
       "</div>"
      ],
      "text/plain": [
       "                         Name     Industry Sector Headquarters Founded  \\\n",
       "count                     493          493    448          493     493   \n",
       "unique                    493           19    101           61     133   \n",
       "top     63 Moons Technologies  Industrials  Banks       Mumbai    1986   \n",
       "freq                        1          112     31          149      12   \n",
       "\n",
       "         Notes Private/State Active/Defunct  \n",
       "count      490           493            493  \n",
       "unique     371             2              2  \n",
       "top     Pharma             P              A  \n",
       "freq        11           390            484  "
      ]
     },
     "execution_count": 4,
     "metadata": {},
     "output_type": "execute_result"
    }
   ],
   "source": [
    "df.info()\n",
    "\n",
    "df.isnull().sum()\n",
    "\n",
    "df.describe()"
   ]
  },
  {
   "cell_type": "code",
   "execution_count": 5,
   "id": "6d0b33e1",
   "metadata": {
    "execution": {
     "iopub.execute_input": "2024-10-31T16:29:33.878347Z",
     "iopub.status.busy": "2024-10-31T16:29:33.877948Z",
     "iopub.status.idle": "2024-10-31T16:29:33.892810Z",
     "shell.execute_reply": "2024-10-31T16:29:33.891579Z"
    },
    "papermill": {
     "duration": 0.025294,
     "end_time": "2024-10-31T16:29:33.895526",
     "exception": false,
     "start_time": "2024-10-31T16:29:33.870232",
     "status": "completed"
    },
    "tags": []
   },
   "outputs": [
    {
     "data": {
      "text/plain": [
       "Name              0\n",
       "Industry          0\n",
       "Sector            0\n",
       "Headquarters      0\n",
       "Founded           0\n",
       "Notes             0\n",
       "Private/State     0\n",
       "Active/Defunct    0\n",
       "dtype: int64"
      ]
     },
     "execution_count": 5,
     "metadata": {},
     "output_type": "execute_result"
    }
   ],
   "source": [
    "df_cleaned = df.dropna()\n",
    "\n",
    "df_cleaned.isnull().sum()"
   ]
  },
  {
   "cell_type": "markdown",
   "id": "cdbe4847",
   "metadata": {
    "papermill": {
     "duration": 0.006241,
     "end_time": "2024-10-31T16:29:33.908260",
     "exception": false,
     "start_time": "2024-10-31T16:29:33.902019",
     "status": "completed"
    },
    "tags": []
   },
   "source": [
    "### Exploring Industry and Sector"
   ]
  },
  {
   "cell_type": "code",
   "execution_count": 6,
   "id": "3d1bcdbc",
   "metadata": {
    "execution": {
     "iopub.execute_input": "2024-10-31T16:29:33.923411Z",
     "iopub.status.busy": "2024-10-31T16:29:33.923014Z",
     "iopub.status.idle": "2024-10-31T16:29:33.937776Z",
     "shell.execute_reply": "2024-10-31T16:29:33.936450Z"
    },
    "papermill": {
     "duration": 0.025745,
     "end_time": "2024-10-31T16:29:33.940771",
     "exception": false,
     "start_time": "2024-10-31T16:29:33.915026",
     "status": "completed"
    },
    "tags": []
   },
   "outputs": [
    {
     "name": "stdout",
     "output_type": "stream",
     "text": [
      "Number of unique industries: 18\n",
      "Number of unique sectors: 101\n"
     ]
    },
    {
     "data": {
      "text/plain": [
       "Sector\n",
       "Banks                           30\n",
       "Consumer digital services       22\n",
       "Business support services       18\n",
       "Automobiles                     17\n",
       "Consumer electronics            15\n",
       "Broadcasting & entertainment    15\n",
       "Food products                   14\n",
       "Pharmaceuticals                 12\n",
       "Alternative electricity         10\n",
       "Airlines                        10\n",
       "Name: count, dtype: int64"
      ]
     },
     "execution_count": 6,
     "metadata": {},
     "output_type": "execute_result"
    }
   ],
   "source": [
    "industries = df_cleaned['Industry'].unique()\n",
    "sectors = df_cleaned['Sector'].unique()\n",
    "\n",
    "print(f'Number of unique industries: {len(industries)}')\n",
    "print(f'Number of unique sectors: {len(sectors)}')\n",
    "\n",
    "df_cleaned['Industry'].value_counts().head(10)\n",
    "df_cleaned['Sector'].value_counts().head(10)"
   ]
  },
  {
   "cell_type": "markdown",
   "id": "9ad6b1e2",
   "metadata": {
    "papermill": {
     "duration": 0.006346,
     "end_time": "2024-10-31T16:29:33.954966",
     "exception": false,
     "start_time": "2024-10-31T16:29:33.948620",
     "status": "completed"
    },
    "tags": []
   },
   "source": [
    "### Visualizing Industry Distribution"
   ]
  },
  {
   "cell_type": "code",
   "execution_count": 7,
   "id": "c5076e4b",
   "metadata": {
    "execution": {
     "iopub.execute_input": "2024-10-31T16:29:33.971797Z",
     "iopub.status.busy": "2024-10-31T16:29:33.971343Z",
     "iopub.status.idle": "2024-10-31T16:29:36.197990Z",
     "shell.execute_reply": "2024-10-31T16:29:36.196689Z"
    },
    "papermill": {
     "duration": 2.238793,
     "end_time": "2024-10-31T16:29:36.200818",
     "exception": false,
     "start_time": "2024-10-31T16:29:33.962025",
     "status": "completed"
    },
    "tags": []
   },
   "outputs": [
    {
     "data": {
      "image/png": "[encoded data removed]",
      "text/plain": [
       "<Figure size 1000x600 with 1 Axes>"
      ]
     },
     "metadata": {},
     "output_type": "display_data"
    }
   ],
   "source": [
    "import matplotlib.pyplot as plt\n",
    "import seaborn as sns\n",
    "\n",
    "plt.figure(figsize=(10,6))\n",
    "sns.countplot(y='Industry', data=df_cleaned, order=df_cleaned['Industry'].value_counts().iloc[:10].index, palette='coolwarm')\n",
    "plt.title('Top 10 Most Common Industries')\n",
    "plt.xlabel('Number of Companies')\n",
    "plt.ylabel('Industry')\n",
    "plt.show()"
   ]
  },
  {
   "cell_type": "markdown",
   "id": "3c55ca8d",
   "metadata": {
    "papermill": {
     "duration": 0.006893,
     "end_time": "2024-10-31T16:29:36.214955",
     "exception": false,
     "start_time": "2024-10-31T16:29:36.208062",
     "status": "completed"
    },
    "tags": []
   },
   "source": [
    "### Defunct Companies Analysis\n",
    "\n",
    "The dataset includes companies that have ceased operations, which are labeled as \"defunct\". The chart below gives a visual representation of the proportion of defunct vs. active companies."
   ]
  },
  {
   "cell_type": "code",
   "execution_count": 8,
   "id": "d1e301f0",
   "metadata": {
    "execution": {
     "iopub.execute_input": "2024-10-31T16:29:36.232443Z",
     "iopub.status.busy": "2024-10-31T16:29:36.231831Z",
     "iopub.status.idle": "2024-10-31T16:29:36.475084Z",
     "shell.execute_reply": "2024-10-31T16:29:36.473969Z"
    },
    "papermill": {
     "duration": 0.254936,
     "end_time": "2024-10-31T16:29:36.477576",
     "exception": false,
     "start_time": "2024-10-31T16:29:36.222640",
     "status": "completed"
    },
    "tags": []
   },
   "outputs": [
    {
     "name": "stdout",
     "output_type": "stream",
     "text": [
      "Active/Defunct\n",
      "A    98.2\n",
      "D     1.8\n",
      "Name: proportion, dtype: float64\n"
     ]
    },
    {
     "data": {
      "image/png": "[encoded data removed]",
      "text/plain": [
       "<Figure size 600x400 with 1 Axes>"
      ]
     },
     "metadata": {},
     "output_type": "display_data"
    }
   ],
   "source": [
    "df_cleaned['Active/Defunct'].value_counts()\n",
    "\n",
    "defunct_percentage = (df_cleaned['Active/Defunct'].value_counts(normalize=True) * 100).round(2)\n",
    "print(defunct_percentage)\n",
    "\n",
    "plt.figure(figsize=(6,4))\n",
    "sns.countplot(x='Active/Defunct', data=df_cleaned, palette='Set2')\n",
    "plt.title('Defunct vs Active Companies')\n",
    "plt.show()"
   ]
  },
  {
   "cell_type": "markdown",
   "id": "d46397ef",
   "metadata": {
    "papermill": {
     "duration": 0.007309,
     "end_time": "2024-10-31T16:29:36.492608",
     "exception": false,
     "start_time": "2024-10-31T16:29:36.485299",
     "status": "completed"
    },
    "tags": []
   },
   "source": [
    "### Country-wise Company Distribution"
   ]
  },
  {
   "cell_type": "code",
   "execution_count": 9,
   "id": "8259992f",
   "metadata": {
    "execution": {
     "iopub.execute_input": "2024-10-31T16:29:36.509809Z",
     "iopub.status.busy": "2024-10-31T16:29:36.509346Z",
     "iopub.status.idle": "2024-10-31T16:29:36.866959Z",
     "shell.execute_reply": "2024-10-31T16:29:36.865687Z"
    },
    "papermill": {
     "duration": 0.369348,
     "end_time": "2024-10-31T16:29:36.869567",
     "exception": false,
     "start_time": "2024-10-31T16:29:36.500219",
     "status": "completed"
    },
    "tags": []
   },
   "outputs": [
    {
     "data": {
      "image/png": "[encoded data removed]",
      "text/plain": [
       "<Figure size 1000x600 with 1 Axes>"
      ]
     },
     "metadata": {},
     "output_type": "display_data"
    }
   ],
   "source": [
    "top_countries = df_cleaned['Headquarters'].value_counts().head(10)\n",
    "\n",
    "plt.figure(figsize=(10,6))\n",
    "sns.barplot(x=top_countries.values, y=top_countries.index, palette='mako')\n",
    "plt.title('Top 10 Countries with Most Notable Companies')\n",
    "plt.xlabel('Number of Companies')\n",
    "plt.ylabel('Country')\n",
    "plt.show()"
   ]
  },
  {
   "cell_type": "markdown",
   "id": "709cf9fc",
   "metadata": {
    "papermill": {
     "duration": 0.007939,
     "end_time": "2024-10-31T16:29:36.885879",
     "exception": false,
     "start_time": "2024-10-31T16:29:36.877940",
     "status": "completed"
    },
    "tags": []
   },
   "source": [
    "### Conclusion\n",
    "\n",
    "In this analysis, we explored the Notable Companies dataset by examining various features such as industry, sector, country, and the status of companies (active vs. defunct). Our visualizations provided a clear understanding of the most prevalent industries and countries that house these companies."
   ]
  }
 ],
 "metadata": {
  "kaggle": {
   "accelerator": "none",
   "dataSources": [
    {
     "datasetId": 5934360,
     "sourceId": 9703661,
     "sourceType": "datasetVersion"
    }
   ],
   "dockerImageVersionId": 30786,
   "isGpuEnabled": false,
   "isInternetEnabled": true,
   "language": "python",
   "sourceType": "notebook"
  },
  "kernelspec": {
   "display_name": "Python 3",
   "language": "python",
   "name": "python3"
  },
  "language_info": {
   "codemirror_mode": {
    "name": "ipython",
    "version": 3
   },
   "file_extension": ".py",
   "mimetype": "text/x-python",
   "name": "python",
   "nbconvert_exporter": "python",
   "pygments_lexer": "ipython3",
   "version": "3.10.14"
  },
  "papermill": {
   "default_parameters": {},
   "duration": 8.071024,
   "end_time": "2024-10-31T16:29:37.516157",
   "environment_variables": {},
   "exception": null,
   "input_path": "__notebook__.ipynb",
   "output_path": "__notebook__.ipynb",
   "parameters": {},
   "start_time": "2024-10-31T16:29:29.445133",
   "version": "2.6.0"
  }
 },
 "nbformat": 4,
 "nbformat_minor": 5
}
