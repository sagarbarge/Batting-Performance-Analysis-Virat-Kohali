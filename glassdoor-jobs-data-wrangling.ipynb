{
 "cells": [
  {
   "cell_type": "markdown",
   "id": "32734237",
   "metadata": {
    "papermill": {
     "duration": 0.00855,
     "end_time": "2025-01-08T17:10:24.581464",
     "exception": false,
     "start_time": "2025-01-08T17:10:24.572914",
     "status": "completed"
    },
    "tags": []
   },
   "source": [
    "## Glassdoor Jobs Dataset"
   ]
  },
  {
   "cell_type": "markdown",
   "id": "d67a71f2",
   "metadata": {
    "papermill": {
     "duration": 0.009146,
     "end_time": "2025-01-08T17:10:24.598478",
     "exception": false,
     "start_time": "2025-01-08T17:10:24.589332",
     "status": "completed"
    },
    "tags": []
   },
   "source": [
    "Glassdoor Jobs Data that having many issues, through differant data wrangling task we going to clean."
   ]
  },
  {
   "cell_type": "code",
   "execution_count": 1,
   "id": "4b1adf95",
   "metadata": {
    "execution": {
     "iopub.execute_input": "2025-01-08T17:10:24.615249Z",
     "iopub.status.busy": "2025-01-08T17:10:24.614909Z",
     "iopub.status.idle": "2025-01-08T17:10:25.016915Z",
     "shell.execute_reply": "2025-01-08T17:10:25.015353Z"
    },
    "papermill": {
     "duration": 0.412769,
     "end_time": "2025-01-08T17:10:25.019110",
     "exception": false,
     "start_time": "2025-01-08T17:10:24.606341",
     "status": "completed"
    },
    "tags": []
   },
   "outputs": [],
   "source": [
    "import numpy as np\n",
    "import pandas as pd\n",
    "import matplotlib.pyplot as plt\n",
    "import warnings\n",
    "warnings.filterwarnings ('ignore')"
   ]
  },
  {
   "cell_type": "markdown",
   "id": "85133b8c",
   "metadata": {
    "papermill": {
     "duration": 0.00804,
     "end_time": "2025-01-08T17:10:25.036089",
     "exception": false,
     "start_time": "2025-01-08T17:10:25.028049",
     "status": "completed"
    },
    "tags": []
   },
   "source": [
    "#### Load Data"
   ]
  },
  {
   "cell_type": "code",
   "execution_count": 2,
   "id": "745a1baf",
   "metadata": {
    "execution": {
     "iopub.execute_input": "2025-01-08T17:10:25.056554Z",
     "iopub.status.busy": "2025-01-08T17:10:25.056069Z",
     "iopub.status.idle": "2025-01-08T17:10:25.139266Z",
     "shell.execute_reply": "2025-01-08T17:10:25.138212Z"
    },
    "papermill": {
     "duration": 0.095456,
     "end_time": "2025-01-08T17:10:25.141514",
     "exception": false,
     "start_time": "2025-01-08T17:10:25.046058",
     "status": "completed"
    },
    "tags": []
   },
   "outputs": [],
   "source": [
    "# Load data\n",
    "df = pd.read_csv('/kaggle/input/glassdoor-job-data/v1.2.csv')"
   ]
  },
  {
   "cell_type": "code",
   "execution_count": 3,
   "id": "edf86e6e",
   "metadata": {
    "execution": {
     "iopub.execute_input": "2025-01-08T17:10:25.158904Z",
     "iopub.status.busy": "2025-01-08T17:10:25.158409Z",
     "iopub.status.idle": "2025-01-08T17:10:25.183157Z",
     "shell.execute_reply": "2025-01-08T17:10:25.181973Z"
    },
    "papermill": {
     "duration": 0.035245,
     "end_time": "2025-01-08T17:10:25.184817",
     "exception": false,
     "start_time": "2025-01-08T17:10:25.149572",
     "status": "completed"
    },
    "tags": []
   },
   "outputs": [
    {
     "data": {
      "text/html": [
       "<div>\n",
       "<style scoped>\n",
       "    .dataframe tbody tr th:only-of-type {\n",
       "        vertical-align: middle;\n",
       "    }\n",
       "\n",
       "    .dataframe tbody tr th {\n",
       "        vertical-align: top;\n",
       "    }\n",
       "\n",
       "    .dataframe thead th {\n",
       "        text-align: right;\n",
       "    }\n",
       "</style>\n",
       "<table border=\"1\" class=\"dataframe\">\n",
       "  <thead>\n",
       "    <tr style=\"text-align: right;\">\n",
       "      <th></th>\n",
       "      <th>Unnamed: 0</th>\n",
       "      <th>Unnamed: 1</th>\n",
       "      <th>GLASSDOOR JOBS</th>\n",
       "      <th>Unnamed: 3</th>\n",
       "      <th>Unnamed: 4</th>\n",
       "      <th>Unnamed: 5</th>\n",
       "      <th>Unnamed: 6</th>\n",
       "      <th>Unnamed: 7</th>\n",
       "      <th>Unnamed: 8</th>\n",
       "      <th>Unnamed: 9</th>\n",
       "      <th>Unnamed: 10</th>\n",
       "      <th>Unnamed: 11</th>\n",
       "      <th>Unnamed: 12</th>\n",
       "      <th>Unnamed: 13</th>\n",
       "      <th>Unnamed: 14</th>\n",
       "    </tr>\n",
       "  </thead>\n",
       "  <tbody>\n",
       "    <tr>\n",
       "      <th>0</th>\n",
       "      <td>NaN</td>\n",
       "      <td>NaN</td>\n",
       "      <td>NaN</td>\n",
       "      <td>NaN</td>\n",
       "      <td>NaN</td>\n",
       "      <td>NaN</td>\n",
       "      <td>NaN</td>\n",
       "      <td>NaN</td>\n",
       "      <td>NaN</td>\n",
       "      <td>NaN</td>\n",
       "      <td>NaN</td>\n",
       "      <td>NaN</td>\n",
       "      <td>NaN</td>\n",
       "      <td>NaN</td>\n",
       "      <td>NaN</td>\n",
       "    </tr>\n",
       "    <tr>\n",
       "      <th>1</th>\n",
       "      <td>NaN</td>\n",
       "      <td>NaN</td>\n",
       "      <td>NaN</td>\n",
       "      <td>NaN</td>\n",
       "      <td>NaN</td>\n",
       "      <td>NaN</td>\n",
       "      <td>NaN</td>\n",
       "      <td>NaN</td>\n",
       "      <td>NaN</td>\n",
       "      <td>NaN</td>\n",
       "      <td>NaN</td>\n",
       "      <td>NaN</td>\n",
       "      <td>NaN</td>\n",
       "      <td>NaN</td>\n",
       "      <td>NaN</td>\n",
       "    </tr>\n",
       "    <tr>\n",
       "      <th>2</th>\n",
       "      <td>Competitors</td>\n",
       "      <td>Revenue</td>\n",
       "      <td>Sector</td>\n",
       "      <td>Industry</td>\n",
       "      <td>Ownership Type</td>\n",
       "      <td>Founded</td>\n",
       "      <td>Size</td>\n",
       "      <td>Headquarters</td>\n",
       "      <td>Location</td>\n",
       "      <td>Name</td>\n",
       "      <td>Rating</td>\n",
       "      <td>Description</td>\n",
       "      <td>Salary</td>\n",
       "      <td>Title</td>\n",
       "      <td>index</td>\n",
       "    </tr>\n",
       "    <tr>\n",
       "      <th>3</th>\n",
       "      <td>EmblemHealth, UnitedHealth Group, Aetna</td>\n",
       "      <td>Unknown / Non-Applicable</td>\n",
       "      <td>Insurance</td>\n",
       "      <td>Insurance Carriers</td>\n",
       "      <td>Nonprofit Organization</td>\n",
       "      <td>1993</td>\n",
       "      <td>1001 to 5000 employees</td>\n",
       "      <td>New York, NY</td>\n",
       "      <td>New York, NY</td>\n",
       "      <td>Healthfirst\\n3.1</td>\n",
       "      <td>3.1</td>\n",
       "      <td>Description\\n\\nThe Senior Data Scientist is re...</td>\n",
       "      <td>$137K-$171K (Glassdoor est.)</td>\n",
       "      <td>Sr Data Scientist</td>\n",
       "      <td>0</td>\n",
       "    </tr>\n",
       "    <tr>\n",
       "      <th>4</th>\n",
       "      <td>-1</td>\n",
       "      <td>$1 to $2 billion (USD)</td>\n",
       "      <td>Business Services</td>\n",
       "      <td>Research &amp; Development</td>\n",
       "      <td>Company - Public</td>\n",
       "      <td>1968</td>\n",
       "      <td>5001 to 10000 employees</td>\n",
       "      <td>Herndon, VA</td>\n",
       "      <td>Chantilly, VA</td>\n",
       "      <td>ManTech\\n4.2</td>\n",
       "      <td>4.2</td>\n",
       "      <td>Secure our Nation, Ignite your Future\\n\\nJoin ...</td>\n",
       "      <td>$137K-$171K (Glassdoor est.)</td>\n",
       "      <td>Data Scientist</td>\n",
       "      <td>1</td>\n",
       "    </tr>\n",
       "  </tbody>\n",
       "</table>\n",
       "</div>"
      ],
      "text/plain": [
       "                                Unnamed: 0                Unnamed: 1  \\\n",
       "0                                      NaN                       NaN   \n",
       "1                                      NaN                       NaN   \n",
       "2                              Competitors                   Revenue   \n",
       "3  EmblemHealth, UnitedHealth Group, Aetna  Unknown / Non-Applicable   \n",
       "4                                       -1    $1 to $2 billion (USD)   \n",
       "\n",
       "      GLASSDOOR JOBS              Unnamed: 3              Unnamed: 4  \\\n",
       "0                NaN                     NaN                     NaN   \n",
       "1                NaN                     NaN                     NaN   \n",
       "2             Sector                Industry          Ownership Type   \n",
       "3          Insurance      Insurance Carriers  Nonprofit Organization   \n",
       "4  Business Services  Research & Development        Company - Public   \n",
       "\n",
       "  Unnamed: 5               Unnamed: 6    Unnamed: 7     Unnamed: 8  \\\n",
       "0        NaN                      NaN           NaN            NaN   \n",
       "1        NaN                      NaN           NaN            NaN   \n",
       "2    Founded                     Size  Headquarters       Location   \n",
       "3       1993   1001 to 5000 employees  New York, NY   New York, NY   \n",
       "4       1968  5001 to 10000 employees   Herndon, VA  Chantilly, VA   \n",
       "\n",
       "         Unnamed: 9 Unnamed: 10  \\\n",
       "0               NaN         NaN   \n",
       "1               NaN         NaN   \n",
       "2              Name      Rating   \n",
       "3  Healthfirst\\n3.1         3.1   \n",
       "4      ManTech\\n4.2         4.2   \n",
       "\n",
       "                                         Unnamed: 11  \\\n",
       "0                                                NaN   \n",
       "1                                                NaN   \n",
       "2                                        Description   \n",
       "3  Description\\n\\nThe Senior Data Scientist is re...   \n",
       "4  Secure our Nation, Ignite your Future\\n\\nJoin ...   \n",
       "\n",
       "                    Unnamed: 12        Unnamed: 13 Unnamed: 14  \n",
       "0                           NaN                NaN         NaN  \n",
       "1                           NaN                NaN         NaN  \n",
       "2                        Salary              Title       index  \n",
       "3  $137K-$171K (Glassdoor est.)  Sr Data Scientist           0  \n",
       "4  $137K-$171K (Glassdoor est.)     Data Scientist           1  "
      ]
     },
     "execution_count": 3,
     "metadata": {},
     "output_type": "execute_result"
    }
   ],
   "source": [
    "df.head()"
   ]
  },
  {
   "cell_type": "code",
   "execution_count": 4,
   "id": "38a17b10",
   "metadata": {
    "execution": {
     "iopub.execute_input": "2025-01-08T17:10:25.202969Z",
     "iopub.status.busy": "2025-01-08T17:10:25.202528Z",
     "iopub.status.idle": "2025-01-08T17:10:25.257297Z",
     "shell.execute_reply": "2025-01-08T17:10:25.256120Z"
    },
    "papermill": {
     "duration": 0.06609,
     "end_time": "2025-01-08T17:10:25.259193",
     "exception": false,
     "start_time": "2025-01-08T17:10:25.193103",
     "status": "completed"
    },
    "tags": []
   },
   "outputs": [
    {
     "data": {
      "text/html": [
       "<div>\n",
       "<style scoped>\n",
       "    .dataframe tbody tr th:only-of-type {\n",
       "        vertical-align: middle;\n",
       "    }\n",
       "\n",
       "    .dataframe tbody tr th {\n",
       "        vertical-align: top;\n",
       "    }\n",
       "\n",
       "    .dataframe thead th {\n",
       "        text-align: right;\n",
       "    }\n",
       "</style>\n",
       "<table border=\"1\" class=\"dataframe\">\n",
       "  <thead>\n",
       "    <tr style=\"text-align: right;\">\n",
       "      <th></th>\n",
       "      <th>Competitors</th>\n",
       "      <th>Revenue</th>\n",
       "      <th>Sector</th>\n",
       "      <th>Industry</th>\n",
       "      <th>Ownership Type</th>\n",
       "      <th>Founded</th>\n",
       "      <th>Size</th>\n",
       "      <th>Headquarters</th>\n",
       "      <th>Location</th>\n",
       "      <th>Name</th>\n",
       "      <th>Rating</th>\n",
       "      <th>Description</th>\n",
       "      <th>Salary</th>\n",
       "      <th>Title</th>\n",
       "      <th>index</th>\n",
       "    </tr>\n",
       "  </thead>\n",
       "  <tbody>\n",
       "    <tr>\n",
       "      <th>0</th>\n",
       "      <td>EmblemHealth, UnitedHealth Group, Aetna</td>\n",
       "      <td>Unknown / Non-Applicable</td>\n",
       "      <td>Insurance</td>\n",
       "      <td>Insurance Carriers</td>\n",
       "      <td>Nonprofit Organization</td>\n",
       "      <td>1993</td>\n",
       "      <td>1001 to 5000 employees</td>\n",
       "      <td>New York, NY</td>\n",
       "      <td>New York, NY</td>\n",
       "      <td>Healthfirst\\n3.1</td>\n",
       "      <td>3.1</td>\n",
       "      <td>Description\\n\\nThe Senior Data Scientist is re...</td>\n",
       "      <td>$137K-$171K (Glassdoor est.)</td>\n",
       "      <td>Sr Data Scientist</td>\n",
       "      <td>0</td>\n",
       "    </tr>\n",
       "    <tr>\n",
       "      <th>1</th>\n",
       "      <td>-1</td>\n",
       "      <td>$1 to $2 billion (USD)</td>\n",
       "      <td>Business Services</td>\n",
       "      <td>Research &amp; Development</td>\n",
       "      <td>Company - Public</td>\n",
       "      <td>1968</td>\n",
       "      <td>5001 to 10000 employees</td>\n",
       "      <td>Herndon, VA</td>\n",
       "      <td>Chantilly, VA</td>\n",
       "      <td>ManTech\\n4.2</td>\n",
       "      <td>4.2</td>\n",
       "      <td>Secure our Nation, Ignite your Future\\n\\nJoin ...</td>\n",
       "      <td>$137K-$171K (Glassdoor est.)</td>\n",
       "      <td>Data Scientist</td>\n",
       "      <td>1</td>\n",
       "    </tr>\n",
       "    <tr>\n",
       "      <th>2</th>\n",
       "      <td>-1</td>\n",
       "      <td>$100 to $500 million (USD)</td>\n",
       "      <td>Business Services</td>\n",
       "      <td>Consulting</td>\n",
       "      <td>Private Practice / Firm</td>\n",
       "      <td>1981</td>\n",
       "      <td>1001 to 5000 employees</td>\n",
       "      <td>Boston, MA</td>\n",
       "      <td>Boston, MA</td>\n",
       "      <td>Analysis Group\\n3.8</td>\n",
       "      <td>3.8</td>\n",
       "      <td>Overview\\n\\n\\nAnalysis Group is one of the lar...</td>\n",
       "      <td>$137K-$171K (Glassdoor est.)</td>\n",
       "      <td>Data Scientist</td>\n",
       "      <td>2</td>\n",
       "    </tr>\n",
       "    <tr>\n",
       "      <th>3</th>\n",
       "      <td>MKS Instruments, Pfeiffer Vacuum, Agilent Tech...</td>\n",
       "      <td>$100 to $500 million (USD)</td>\n",
       "      <td>Manufacturing</td>\n",
       "      <td>Electrical &amp; Electronic Manufacturing</td>\n",
       "      <td>Company - Public</td>\n",
       "      <td>2000</td>\n",
       "      <td>501 to 1000 employees</td>\n",
       "      <td>Bad Ragaz, Switzerland</td>\n",
       "      <td>Newton, MA</td>\n",
       "      <td>INFICON\\n3.5</td>\n",
       "      <td>3.5</td>\n",
       "      <td>JOB DESCRIPTION:\\n\\nDo you have a passion for ...</td>\n",
       "      <td>$137K-$171K (Glassdoor est.)</td>\n",
       "      <td>Data Scientist</td>\n",
       "      <td>3</td>\n",
       "    </tr>\n",
       "    <tr>\n",
       "      <th>4</th>\n",
       "      <td>Commerce Signals, Cardlytics, Yodlee</td>\n",
       "      <td>Unknown / Non-Applicable</td>\n",
       "      <td>Business Services</td>\n",
       "      <td>Advertising &amp; Marketing</td>\n",
       "      <td>Company - Private</td>\n",
       "      <td>1998</td>\n",
       "      <td>51 to 200 employees</td>\n",
       "      <td>New York, NY</td>\n",
       "      <td>New York, NY</td>\n",
       "      <td>Affinity Solutions\\n2.9</td>\n",
       "      <td>2.9</td>\n",
       "      <td>Data Scientist\\nAffinity Solutions / Marketing...</td>\n",
       "      <td>$137K-$171K (Glassdoor est.)</td>\n",
       "      <td>NaN</td>\n",
       "      <td>4</td>\n",
       "    </tr>\n",
       "  </tbody>\n",
       "</table>\n",
       "</div>"
      ],
      "text/plain": [
       "                                         Competitors  \\\n",
       "0            EmblemHealth, UnitedHealth Group, Aetna   \n",
       "1                                                 -1   \n",
       "2                                                 -1   \n",
       "3  MKS Instruments, Pfeiffer Vacuum, Agilent Tech...   \n",
       "4               Commerce Signals, Cardlytics, Yodlee   \n",
       "\n",
       "                      Revenue             Sector  \\\n",
       "0    Unknown / Non-Applicable          Insurance   \n",
       "1      $1 to $2 billion (USD)  Business Services   \n",
       "2  $100 to $500 million (USD)  Business Services   \n",
       "3  $100 to $500 million (USD)      Manufacturing   \n",
       "4    Unknown / Non-Applicable  Business Services   \n",
       "\n",
       "                                Industry           Ownership Type  Founded  \\\n",
       "0                     Insurance Carriers   Nonprofit Organization     1993   \n",
       "1                 Research & Development         Company - Public     1968   \n",
       "2                             Consulting  Private Practice / Firm     1981   \n",
       "3  Electrical & Electronic Manufacturing         Company - Public     2000   \n",
       "4                Advertising & Marketing        Company - Private     1998   \n",
       "\n",
       "                      Size            Headquarters       Location  \\\n",
       "0   1001 to 5000 employees            New York, NY   New York, NY   \n",
       "1  5001 to 10000 employees             Herndon, VA  Chantilly, VA   \n",
       "2   1001 to 5000 employees              Boston, MA     Boston, MA   \n",
       "3    501 to 1000 employees  Bad Ragaz, Switzerland     Newton, MA   \n",
       "4      51 to 200 employees            New York, NY   New York, NY   \n",
       "\n",
       "                      Name Rating  \\\n",
       "0         Healthfirst\\n3.1    3.1   \n",
       "1             ManTech\\n4.2    4.2   \n",
       "2      Analysis Group\\n3.8    3.8   \n",
       "3             INFICON\\n3.5    3.5   \n",
       "4  Affinity Solutions\\n2.9    2.9   \n",
       "\n",
       "                                         Description  \\\n",
       "0  Description\\n\\nThe Senior Data Scientist is re...   \n",
       "1  Secure our Nation, Ignite your Future\\n\\nJoin ...   \n",
       "2  Overview\\n\\n\\nAnalysis Group is one of the lar...   \n",
       "3  JOB DESCRIPTION:\\n\\nDo you have a passion for ...   \n",
       "4  Data Scientist\\nAffinity Solutions / Marketing...   \n",
       "\n",
       "                         Salary              Title  index  \n",
       "0  $137K-$171K (Glassdoor est.)  Sr Data Scientist      0  \n",
       "1  $137K-$171K (Glassdoor est.)     Data Scientist      1  \n",
       "2  $137K-$171K (Glassdoor est.)     Data Scientist      2  \n",
       "3  $137K-$171K (Glassdoor est.)     Data Scientist      3  \n",
       "4  $137K-$171K (Glassdoor est.)                NaN      4  "
      ]
     },
     "execution_count": 4,
     "metadata": {},
     "output_type": "execute_result"
    }
   ],
   "source": [
    "df = pd.read_csv ('/kaggle/input/glassdoor-job-data/v1.2.csv', skiprows= 3)\n",
    "df.head()"
   ]
  },
  {
   "cell_type": "code",
   "execution_count": 5,
   "id": "c529f576",
   "metadata": {
    "execution": {
     "iopub.execute_input": "2025-01-08T17:10:25.277281Z",
     "iopub.status.busy": "2025-01-08T17:10:25.276926Z",
     "iopub.status.idle": "2025-01-08T17:10:25.290099Z",
     "shell.execute_reply": "2025-01-08T17:10:25.288946Z"
    },
    "papermill": {
     "duration": 0.024294,
     "end_time": "2025-01-08T17:10:25.291922",
     "exception": false,
     "start_time": "2025-01-08T17:10:25.267628",
     "status": "completed"
    },
    "tags": []
   },
   "outputs": [],
   "source": [
    "df.drop ('index', axis=1, inplace=True)"
   ]
  },
  {
   "cell_type": "code",
   "execution_count": 6,
   "id": "f833b78a",
   "metadata": {
    "execution": {
     "iopub.execute_input": "2025-01-08T17:10:25.310845Z",
     "iopub.status.busy": "2025-01-08T17:10:25.310264Z",
     "iopub.status.idle": "2025-01-08T17:10:25.327352Z",
     "shell.execute_reply": "2025-01-08T17:10:25.325888Z"
    },
    "papermill": {
     "duration": 0.029059,
     "end_time": "2025-01-08T17:10:25.329611",
     "exception": false,
     "start_time": "2025-01-08T17:10:25.300552",
     "status": "completed"
    },
    "tags": []
   },
   "outputs": [
    {
     "data": {
      "text/html": [
       "<div>\n",
       "<style scoped>\n",
       "    .dataframe tbody tr th:only-of-type {\n",
       "        vertical-align: middle;\n",
       "    }\n",
       "\n",
       "    .dataframe tbody tr th {\n",
       "        vertical-align: top;\n",
       "    }\n",
       "\n",
       "    .dataframe thead th {\n",
       "        text-align: right;\n",
       "    }\n",
       "</style>\n",
       "<table border=\"1\" class=\"dataframe\">\n",
       "  <thead>\n",
       "    <tr style=\"text-align: right;\">\n",
       "      <th></th>\n",
       "      <th>Competitors</th>\n",
       "      <th>Revenue</th>\n",
       "      <th>Sector</th>\n",
       "      <th>Industry</th>\n",
       "      <th>Ownership Type</th>\n",
       "      <th>Founded</th>\n",
       "      <th>Size</th>\n",
       "      <th>Headquarters</th>\n",
       "      <th>Location</th>\n",
       "      <th>Name</th>\n",
       "      <th>Rating</th>\n",
       "      <th>Description</th>\n",
       "      <th>Salary</th>\n",
       "      <th>Title</th>\n",
       "    </tr>\n",
       "  </thead>\n",
       "  <tbody>\n",
       "    <tr>\n",
       "      <th>0</th>\n",
       "      <td>EmblemHealth, UnitedHealth Group, Aetna</td>\n",
       "      <td>Unknown / Non-Applicable</td>\n",
       "      <td>Insurance</td>\n",
       "      <td>Insurance Carriers</td>\n",
       "      <td>Nonprofit Organization</td>\n",
       "      <td>1993</td>\n",
       "      <td>1001 to 5000 employees</td>\n",
       "      <td>New York, NY</td>\n",
       "      <td>New York, NY</td>\n",
       "      <td>Healthfirst\\n3.1</td>\n",
       "      <td>3.1</td>\n",
       "      <td>Description\\n\\nThe Senior Data Scientist is re...</td>\n",
       "      <td>$137K-$171K (Glassdoor est.)</td>\n",
       "      <td>Sr Data Scientist</td>\n",
       "    </tr>\n",
       "    <tr>\n",
       "      <th>1</th>\n",
       "      <td>-1</td>\n",
       "      <td>$1 to $2 billion (USD)</td>\n",
       "      <td>Business Services</td>\n",
       "      <td>Research &amp; Development</td>\n",
       "      <td>Company - Public</td>\n",
       "      <td>1968</td>\n",
       "      <td>5001 to 10000 employees</td>\n",
       "      <td>Herndon, VA</td>\n",
       "      <td>Chantilly, VA</td>\n",
       "      <td>ManTech\\n4.2</td>\n",
       "      <td>4.2</td>\n",
       "      <td>Secure our Nation, Ignite your Future\\n\\nJoin ...</td>\n",
       "      <td>$137K-$171K (Glassdoor est.)</td>\n",
       "      <td>Data Scientist</td>\n",
       "    </tr>\n",
       "    <tr>\n",
       "      <th>2</th>\n",
       "      <td>-1</td>\n",
       "      <td>$100 to $500 million (USD)</td>\n",
       "      <td>Business Services</td>\n",
       "      <td>Consulting</td>\n",
       "      <td>Private Practice / Firm</td>\n",
       "      <td>1981</td>\n",
       "      <td>1001 to 5000 employees</td>\n",
       "      <td>Boston, MA</td>\n",
       "      <td>Boston, MA</td>\n",
       "      <td>Analysis Group\\n3.8</td>\n",
       "      <td>3.8</td>\n",
       "      <td>Overview\\n\\n\\nAnalysis Group is one of the lar...</td>\n",
       "      <td>$137K-$171K (Glassdoor est.)</td>\n",
       "      <td>Data Scientist</td>\n",
       "    </tr>\n",
       "    <tr>\n",
       "      <th>3</th>\n",
       "      <td>MKS Instruments, Pfeiffer Vacuum, Agilent Tech...</td>\n",
       "      <td>$100 to $500 million (USD)</td>\n",
       "      <td>Manufacturing</td>\n",
       "      <td>Electrical &amp; Electronic Manufacturing</td>\n",
       "      <td>Company - Public</td>\n",
       "      <td>2000</td>\n",
       "      <td>501 to 1000 employees</td>\n",
       "      <td>Bad Ragaz, Switzerland</td>\n",
       "      <td>Newton, MA</td>\n",
       "      <td>INFICON\\n3.5</td>\n",
       "      <td>3.5</td>\n",
       "      <td>JOB DESCRIPTION:\\n\\nDo you have a passion for ...</td>\n",
       "      <td>$137K-$171K (Glassdoor est.)</td>\n",
       "      <td>Data Scientist</td>\n",
       "    </tr>\n",
       "    <tr>\n",
       "      <th>4</th>\n",
       "      <td>Commerce Signals, Cardlytics, Yodlee</td>\n",
       "      <td>Unknown / Non-Applicable</td>\n",
       "      <td>Business Services</td>\n",
       "      <td>Advertising &amp; Marketing</td>\n",
       "      <td>Company - Private</td>\n",
       "      <td>1998</td>\n",
       "      <td>51 to 200 employees</td>\n",
       "      <td>New York, NY</td>\n",
       "      <td>New York, NY</td>\n",
       "      <td>Affinity Solutions\\n2.9</td>\n",
       "      <td>2.9</td>\n",
       "      <td>Data Scientist\\nAffinity Solutions / Marketing...</td>\n",
       "      <td>$137K-$171K (Glassdoor est.)</td>\n",
       "      <td>NaN</td>\n",
       "    </tr>\n",
       "  </tbody>\n",
       "</table>\n",
       "</div>"
      ],
      "text/plain": [
       "                                         Competitors  \\\n",
       "0            EmblemHealth, UnitedHealth Group, Aetna   \n",
       "1                                                 -1   \n",
       "2                                                 -1   \n",
       "3  MKS Instruments, Pfeiffer Vacuum, Agilent Tech...   \n",
       "4               Commerce Signals, Cardlytics, Yodlee   \n",
       "\n",
       "                      Revenue             Sector  \\\n",
       "0    Unknown / Non-Applicable          Insurance   \n",
       "1      $1 to $2 billion (USD)  Business Services   \n",
       "2  $100 to $500 million (USD)  Business Services   \n",
       "3  $100 to $500 million (USD)      Manufacturing   \n",
       "4    Unknown / Non-Applicable  Business Services   \n",
       "\n",
       "                                Industry           Ownership Type  Founded  \\\n",
       "0                     Insurance Carriers   Nonprofit Organization     1993   \n",
       "1                 Research & Development         Company - Public     1968   \n",
       "2                             Consulting  Private Practice / Firm     1981   \n",
       "3  Electrical & Electronic Manufacturing         Company - Public     2000   \n",
       "4                Advertising & Marketing        Company - Private     1998   \n",
       "\n",
       "                      Size            Headquarters       Location  \\\n",
       "0   1001 to 5000 employees            New York, NY   New York, NY   \n",
       "1  5001 to 10000 employees             Herndon, VA  Chantilly, VA   \n",
       "2   1001 to 5000 employees              Boston, MA     Boston, MA   \n",
       "3    501 to 1000 employees  Bad Ragaz, Switzerland     Newton, MA   \n",
       "4      51 to 200 employees            New York, NY   New York, NY   \n",
       "\n",
       "                      Name Rating  \\\n",
       "0         Healthfirst\\n3.1    3.1   \n",
       "1             ManTech\\n4.2    4.2   \n",
       "2      Analysis Group\\n3.8    3.8   \n",
       "3             INFICON\\n3.5    3.5   \n",
       "4  Affinity Solutions\\n2.9    2.9   \n",
       "\n",
       "                                         Description  \\\n",
       "0  Description\\n\\nThe Senior Data Scientist is re...   \n",
       "1  Secure our Nation, Ignite your Future\\n\\nJoin ...   \n",
       "2  Overview\\n\\n\\nAnalysis Group is one of the lar...   \n",
       "3  JOB DESCRIPTION:\\n\\nDo you have a passion for ...   \n",
       "4  Data Scientist\\nAffinity Solutions / Marketing...   \n",
       "\n",
       "                         Salary              Title  \n",
       "0  $137K-$171K (Glassdoor est.)  Sr Data Scientist  \n",
       "1  $137K-$171K (Glassdoor est.)     Data Scientist  \n",
       "2  $137K-$171K (Glassdoor est.)     Data Scientist  \n",
       "3  $137K-$171K (Glassdoor est.)     Data Scientist  \n",
       "4  $137K-$171K (Glassdoor est.)                NaN  "
      ]
     },
     "execution_count": 6,
     "metadata": {},
     "output_type": "execute_result"
    }
   ],
   "source": [
    "df.head()"
   ]
  },
  {
   "cell_type": "code",
   "execution_count": 7,
   "id": "c7a77541",
   "metadata": {
    "execution": {
     "iopub.execute_input": "2025-01-08T17:10:25.351799Z",
     "iopub.status.busy": "2025-01-08T17:10:25.351424Z",
     "iopub.status.idle": "2025-01-08T17:10:25.357401Z",
     "shell.execute_reply": "2025-01-08T17:10:25.356302Z"
    },
    "papermill": {
     "duration": 0.017219,
     "end_time": "2025-01-08T17:10:25.359181",
     "exception": false,
     "start_time": "2025-01-08T17:10:25.341962",
     "status": "completed"
    },
    "tags": []
   },
   "outputs": [
    {
     "data": {
      "text/plain": [
       "Index(['Competitors', 'Revenue', 'Sector', 'Industry', 'Ownership Type',\n",
       "       'Founded', 'Size', 'Headquarters', 'Location', 'Name', 'Rating',\n",
       "       'Description', 'Salary', 'Title'],\n",
       "      dtype='object')"
      ]
     },
     "execution_count": 7,
     "metadata": {},
     "output_type": "execute_result"
    }
   ],
   "source": [
    "# df Columns\n",
    "df.columns"
   ]
  },
  {
   "cell_type": "code",
   "execution_count": 8,
   "id": "d198ff56",
   "metadata": {
    "execution": {
     "iopub.execute_input": "2025-01-08T17:10:25.378285Z",
     "iopub.status.busy": "2025-01-08T17:10:25.377896Z",
     "iopub.status.idle": "2025-01-08T17:10:25.383787Z",
     "shell.execute_reply": "2025-01-08T17:10:25.382786Z"
    },
    "papermill": {
     "duration": 0.017229,
     "end_time": "2025-01-08T17:10:25.385435",
     "exception": false,
     "start_time": "2025-01-08T17:10:25.368206",
     "status": "completed"
    },
    "tags": []
   },
   "outputs": [
    {
     "data": {
      "text/plain": [
       "Index(['Competitors', 'Revenue', 'Sector', 'Industry', 'Ownership Type',\n",
       "       'Founded', 'Size', 'Headquarters', 'Location', 'Name', 'Rating',\n",
       "       'Description', 'Salary', 'Title'],\n",
       "      dtype='object')"
      ]
     },
     "execution_count": 8,
     "metadata": {},
     "output_type": "execute_result"
    }
   ],
   "source": [
    "# Stoaring to list\n",
    "cols = df.columns\n",
    "cols"
   ]
  },
  {
   "cell_type": "code",
   "execution_count": 9,
   "id": "39771f4d",
   "metadata": {
    "execution": {
     "iopub.execute_input": "2025-01-08T17:10:25.404824Z",
     "iopub.status.busy": "2025-01-08T17:10:25.404413Z",
     "iopub.status.idle": "2025-01-08T17:10:25.410912Z",
     "shell.execute_reply": "2025-01-08T17:10:25.409683Z"
    },
    "papermill": {
     "duration": 0.018201,
     "end_time": "2025-01-08T17:10:25.412646",
     "exception": false,
     "start_time": "2025-01-08T17:10:25.394445",
     "status": "completed"
    },
    "tags": []
   },
   "outputs": [
    {
     "data": {
      "text/plain": [
       "Index(['Competitors', 'Revenue', 'Sector', 'Industry', 'Ownership Type',\n",
       "       'Founded', 'Size', 'Headquarters', 'Location', 'Name', 'Rating'],\n",
       "      dtype='object')"
      ]
     },
     "execution_count": 9,
     "metadata": {},
     "output_type": "execute_result"
    }
   ],
   "source": [
    "# columns 0:11 with related to Company\n",
    "cols[0:11] # Company"
   ]
  },
  {
   "cell_type": "code",
   "execution_count": 10,
   "id": "fec30983",
   "metadata": {
    "execution": {
     "iopub.execute_input": "2025-01-08T17:10:25.432470Z",
     "iopub.status.busy": "2025-01-08T17:10:25.432091Z",
     "iopub.status.idle": "2025-01-08T17:10:25.438130Z",
     "shell.execute_reply": "2025-01-08T17:10:25.437110Z"
    },
    "papermill": {
     "duration": 0.017662,
     "end_time": "2025-01-08T17:10:25.439709",
     "exception": false,
     "start_time": "2025-01-08T17:10:25.422047",
     "status": "completed"
    },
    "tags": []
   },
   "outputs": [
    {
     "data": {
      "text/plain": [
       "Index(['Description', 'Salary', 'Title'], dtype='object')"
      ]
     },
     "execution_count": 10,
     "metadata": {},
     "output_type": "execute_result"
    }
   ],
   "source": [
    "# columns 11:14 with related to Job Cols\n",
    "cols[11:14] # Job Cols"
   ]
  },
  {
   "cell_type": "code",
   "execution_count": 11,
   "id": "bcb3f9f1",
   "metadata": {
    "execution": {
     "iopub.execute_input": "2025-01-08T17:10:25.459279Z",
     "iopub.status.busy": "2025-01-08T17:10:25.458900Z",
     "iopub.status.idle": "2025-01-08T17:10:25.465274Z",
     "shell.execute_reply": "2025-01-08T17:10:25.464357Z"
    },
    "papermill": {
     "duration": 0.017895,
     "end_time": "2025-01-08T17:10:25.466872",
     "exception": false,
     "start_time": "2025-01-08T17:10:25.448977",
     "status": "completed"
    },
    "tags": []
   },
   "outputs": [
    {
     "data": {
      "text/plain": [
       "Index(['C_Competitors', 'C_Revenue', 'C_Sector', 'C_Industry',\n",
       "       'C_Ownership Type', 'C_Founded', 'C_Size', 'C_Headquarters',\n",
       "       'C_Location', 'C_Name', 'C_Rating'],\n",
       "      dtype='object')"
      ]
     },
     "execution_count": 11,
     "metadata": {},
     "output_type": "execute_result"
    }
   ],
   "source": [
    "# adding 'C_' \n",
    "l1 = 'C_'+ cols[0:11]\n",
    "l1"
   ]
  },
  {
   "cell_type": "code",
   "execution_count": 12,
   "id": "83fd6262",
   "metadata": {
    "execution": {
     "iopub.execute_input": "2025-01-08T17:10:25.487053Z",
     "iopub.status.busy": "2025-01-08T17:10:25.486685Z",
     "iopub.status.idle": "2025-01-08T17:10:25.494146Z",
     "shell.execute_reply": "2025-01-08T17:10:25.492838Z"
    },
    "papermill": {
     "duration": 0.02033,
     "end_time": "2025-01-08T17:10:25.496762",
     "exception": false,
     "start_time": "2025-01-08T17:10:25.476432",
     "status": "completed"
    },
    "tags": []
   },
   "outputs": [
    {
     "data": {
      "text/plain": [
       "Index(['J_Description', 'J_Salary', 'J_Title'], dtype='object')"
      ]
     },
     "execution_count": 12,
     "metadata": {},
     "output_type": "execute_result"
    }
   ],
   "source": [
    "# adding 'J_'\n",
    "l2 = 'J_'+ cols[11:14]\n",
    "l2"
   ]
  },
  {
   "cell_type": "code",
   "execution_count": 13,
   "id": "a696e3d8",
   "metadata": {
    "execution": {
     "iopub.execute_input": "2025-01-08T17:10:25.518435Z",
     "iopub.status.busy": "2025-01-08T17:10:25.518060Z",
     "iopub.status.idle": "2025-01-08T17:10:25.525476Z",
     "shell.execute_reply": "2025-01-08T17:10:25.524375Z"
    },
    "papermill": {
     "duration": 0.020734,
     "end_time": "2025-01-08T17:10:25.527516",
     "exception": false,
     "start_time": "2025-01-08T17:10:25.506782",
     "status": "completed"
    },
    "tags": []
   },
   "outputs": [
    {
     "data": {
      "text/plain": [
       "Index(['C_Competitors', 'C_Revenue', 'C_Sector', 'C_Industry',\n",
       "       'C_Ownership Type', 'C_Founded', 'C_Size', 'C_Headquarters',\n",
       "       'C_Location', 'C_Name', 'C_Rating', 'J_Description', 'J_Salary',\n",
       "       'J_Title'],\n",
       "      dtype='object')"
      ]
     },
     "execution_count": 13,
     "metadata": {},
     "output_type": "execute_result"
    }
   ],
   "source": [
    "# Apped to lists\n",
    "newlist = l1.append(l2)\n",
    "newlist"
   ]
  },
  {
   "cell_type": "code",
   "execution_count": 14,
   "id": "7aa264bf",
   "metadata": {
    "execution": {
     "iopub.execute_input": "2025-01-08T17:10:25.548770Z",
     "iopub.status.busy": "2025-01-08T17:10:25.548323Z",
     "iopub.status.idle": "2025-01-08T17:10:25.552590Z",
     "shell.execute_reply": "2025-01-08T17:10:25.551416Z"
    },
    "papermill": {
     "duration": 0.016806,
     "end_time": "2025-01-08T17:10:25.554606",
     "exception": false,
     "start_time": "2025-01-08T17:10:25.537800",
     "status": "completed"
    },
    "tags": []
   },
   "outputs": [],
   "source": [
    "# new names to columns\n",
    "df.columns = newlist"
   ]
  },
  {
   "cell_type": "code",
   "execution_count": 15,
   "id": "eceaf155",
   "metadata": {
    "execution": {
     "iopub.execute_input": "2025-01-08T17:10:25.575197Z",
     "iopub.status.busy": "2025-01-08T17:10:25.574851Z",
     "iopub.status.idle": "2025-01-08T17:10:25.589906Z",
     "shell.execute_reply": "2025-01-08T17:10:25.588615Z"
    },
    "papermill": {
     "duration": 0.027382,
     "end_time": "2025-01-08T17:10:25.591719",
     "exception": false,
     "start_time": "2025-01-08T17:10:25.564337",
     "status": "completed"
    },
    "tags": []
   },
   "outputs": [
    {
     "data": {
      "text/html": [
       "<div>\n",
       "<style scoped>\n",
       "    .dataframe tbody tr th:only-of-type {\n",
       "        vertical-align: middle;\n",
       "    }\n",
       "\n",
       "    .dataframe tbody tr th {\n",
       "        vertical-align: top;\n",
       "    }\n",
       "\n",
       "    .dataframe thead th {\n",
       "        text-align: right;\n",
       "    }\n",
       "</style>\n",
       "<table border=\"1\" class=\"dataframe\">\n",
       "  <thead>\n",
       "    <tr style=\"text-align: right;\">\n",
       "      <th></th>\n",
       "      <th>C_Competitors</th>\n",
       "      <th>C_Revenue</th>\n",
       "      <th>C_Sector</th>\n",
       "      <th>C_Industry</th>\n",
       "      <th>C_Ownership Type</th>\n",
       "      <th>C_Founded</th>\n",
       "      <th>C_Size</th>\n",
       "      <th>C_Headquarters</th>\n",
       "      <th>C_Location</th>\n",
       "      <th>C_Name</th>\n",
       "      <th>C_Rating</th>\n",
       "      <th>J_Description</th>\n",
       "      <th>J_Salary</th>\n",
       "      <th>J_Title</th>\n",
       "    </tr>\n",
       "  </thead>\n",
       "  <tbody>\n",
       "    <tr>\n",
       "      <th>0</th>\n",
       "      <td>EmblemHealth, UnitedHealth Group, Aetna</td>\n",
       "      <td>Unknown / Non-Applicable</td>\n",
       "      <td>Insurance</td>\n",
       "      <td>Insurance Carriers</td>\n",
       "      <td>Nonprofit Organization</td>\n",
       "      <td>1993</td>\n",
       "      <td>1001 to 5000 employees</td>\n",
       "      <td>New York, NY</td>\n",
       "      <td>New York, NY</td>\n",
       "      <td>Healthfirst\\n3.1</td>\n",
       "      <td>3.1</td>\n",
       "      <td>Description\\n\\nThe Senior Data Scientist is re...</td>\n",
       "      <td>$137K-$171K (Glassdoor est.)</td>\n",
       "      <td>Sr Data Scientist</td>\n",
       "    </tr>\n",
       "    <tr>\n",
       "      <th>1</th>\n",
       "      <td>-1</td>\n",
       "      <td>$1 to $2 billion (USD)</td>\n",
       "      <td>Business Services</td>\n",
       "      <td>Research &amp; Development</td>\n",
       "      <td>Company - Public</td>\n",
       "      <td>1968</td>\n",
       "      <td>5001 to 10000 employees</td>\n",
       "      <td>Herndon, VA</td>\n",
       "      <td>Chantilly, VA</td>\n",
       "      <td>ManTech\\n4.2</td>\n",
       "      <td>4.2</td>\n",
       "      <td>Secure our Nation, Ignite your Future\\n\\nJoin ...</td>\n",
       "      <td>$137K-$171K (Glassdoor est.)</td>\n",
       "      <td>Data Scientist</td>\n",
       "    </tr>\n",
       "    <tr>\n",
       "      <th>2</th>\n",
       "      <td>-1</td>\n",
       "      <td>$100 to $500 million (USD)</td>\n",
       "      <td>Business Services</td>\n",
       "      <td>Consulting</td>\n",
       "      <td>Private Practice / Firm</td>\n",
       "      <td>1981</td>\n",
       "      <td>1001 to 5000 employees</td>\n",
       "      <td>Boston, MA</td>\n",
       "      <td>Boston, MA</td>\n",
       "      <td>Analysis Group\\n3.8</td>\n",
       "      <td>3.8</td>\n",
       "      <td>Overview\\n\\n\\nAnalysis Group is one of the lar...</td>\n",
       "      <td>$137K-$171K (Glassdoor est.)</td>\n",
       "      <td>Data Scientist</td>\n",
       "    </tr>\n",
       "    <tr>\n",
       "      <th>3</th>\n",
       "      <td>MKS Instruments, Pfeiffer Vacuum, Agilent Tech...</td>\n",
       "      <td>$100 to $500 million (USD)</td>\n",
       "      <td>Manufacturing</td>\n",
       "      <td>Electrical &amp; Electronic Manufacturing</td>\n",
       "      <td>Company - Public</td>\n",
       "      <td>2000</td>\n",
       "      <td>501 to 1000 employees</td>\n",
       "      <td>Bad Ragaz, Switzerland</td>\n",
       "      <td>Newton, MA</td>\n",
       "      <td>INFICON\\n3.5</td>\n",
       "      <td>3.5</td>\n",
       "      <td>JOB DESCRIPTION:\\n\\nDo you have a passion for ...</td>\n",
       "      <td>$137K-$171K (Glassdoor est.)</td>\n",
       "      <td>Data Scientist</td>\n",
       "    </tr>\n",
       "    <tr>\n",
       "      <th>4</th>\n",
       "      <td>Commerce Signals, Cardlytics, Yodlee</td>\n",
       "      <td>Unknown / Non-Applicable</td>\n",
       "      <td>Business Services</td>\n",
       "      <td>Advertising &amp; Marketing</td>\n",
       "      <td>Company - Private</td>\n",
       "      <td>1998</td>\n",
       "      <td>51 to 200 employees</td>\n",
       "      <td>New York, NY</td>\n",
       "      <td>New York, NY</td>\n",
       "      <td>Affinity Solutions\\n2.9</td>\n",
       "      <td>2.9</td>\n",
       "      <td>Data Scientist\\nAffinity Solutions / Marketing...</td>\n",
       "      <td>$137K-$171K (Glassdoor est.)</td>\n",
       "      <td>NaN</td>\n",
       "    </tr>\n",
       "  </tbody>\n",
       "</table>\n",
       "</div>"
      ],
      "text/plain": [
       "                                       C_Competitors  \\\n",
       "0            EmblemHealth, UnitedHealth Group, Aetna   \n",
       "1                                                 -1   \n",
       "2                                                 -1   \n",
       "3  MKS Instruments, Pfeiffer Vacuum, Agilent Tech...   \n",
       "4               Commerce Signals, Cardlytics, Yodlee   \n",
       "\n",
       "                    C_Revenue           C_Sector  \\\n",
       "0    Unknown / Non-Applicable          Insurance   \n",
       "1      $1 to $2 billion (USD)  Business Services   \n",
       "2  $100 to $500 million (USD)  Business Services   \n",
       "3  $100 to $500 million (USD)      Manufacturing   \n",
       "4    Unknown / Non-Applicable  Business Services   \n",
       "\n",
       "                              C_Industry         C_Ownership Type  C_Founded  \\\n",
       "0                     Insurance Carriers   Nonprofit Organization       1993   \n",
       "1                 Research & Development         Company - Public       1968   \n",
       "2                             Consulting  Private Practice / Firm       1981   \n",
       "3  Electrical & Electronic Manufacturing         Company - Public       2000   \n",
       "4                Advertising & Marketing        Company - Private       1998   \n",
       "\n",
       "                    C_Size          C_Headquarters     C_Location  \\\n",
       "0   1001 to 5000 employees            New York, NY   New York, NY   \n",
       "1  5001 to 10000 employees             Herndon, VA  Chantilly, VA   \n",
       "2   1001 to 5000 employees              Boston, MA     Boston, MA   \n",
       "3    501 to 1000 employees  Bad Ragaz, Switzerland     Newton, MA   \n",
       "4      51 to 200 employees            New York, NY   New York, NY   \n",
       "\n",
       "                    C_Name C_Rating  \\\n",
       "0         Healthfirst\\n3.1      3.1   \n",
       "1             ManTech\\n4.2      4.2   \n",
       "2      Analysis Group\\n3.8      3.8   \n",
       "3             INFICON\\n3.5      3.5   \n",
       "4  Affinity Solutions\\n2.9      2.9   \n",
       "\n",
       "                                       J_Description  \\\n",
       "0  Description\\n\\nThe Senior Data Scientist is re...   \n",
       "1  Secure our Nation, Ignite your Future\\n\\nJoin ...   \n",
       "2  Overview\\n\\n\\nAnalysis Group is one of the lar...   \n",
       "3  JOB DESCRIPTION:\\n\\nDo you have a passion for ...   \n",
       "4  Data Scientist\\nAffinity Solutions / Marketing...   \n",
       "\n",
       "                       J_Salary            J_Title  \n",
       "0  $137K-$171K (Glassdoor est.)  Sr Data Scientist  \n",
       "1  $137K-$171K (Glassdoor est.)     Data Scientist  \n",
       "2  $137K-$171K (Glassdoor est.)     Data Scientist  \n",
       "3  $137K-$171K (Glassdoor est.)     Data Scientist  \n",
       "4  $137K-$171K (Glassdoor est.)                NaN  "
      ]
     },
     "execution_count": 15,
     "metadata": {},
     "output_type": "execute_result"
    }
   ],
   "source": [
    "# Check df\n",
    "df.head()"
   ]
  },
  {
   "cell_type": "code",
   "execution_count": 16,
   "id": "9c343979",
   "metadata": {
    "execution": {
     "iopub.execute_input": "2025-01-08T17:10:25.614055Z",
     "iopub.status.busy": "2025-01-08T17:10:25.613690Z",
     "iopub.status.idle": "2025-01-08T17:10:25.617865Z",
     "shell.execute_reply": "2025-01-08T17:10:25.616972Z"
    },
    "papermill": {
     "duration": 0.016398,
     "end_time": "2025-01-08T17:10:25.619574",
     "exception": false,
     "start_time": "2025-01-08T17:10:25.603176",
     "status": "completed"
    },
    "tags": []
   },
   "outputs": [],
   "source": [
    "# Copping Data\n",
    "df2 = df.copy()"
   ]
  },
  {
   "cell_type": "markdown",
   "id": "56fdc4a3",
   "metadata": {
    "papermill": {
     "duration": 0.009171,
     "end_time": "2025-01-08T17:10:25.638696",
     "exception": false,
     "start_time": "2025-01-08T17:10:25.629525",
     "status": "completed"
    },
    "tags": []
   },
   "source": [
    "#### Above operation can be done using add_prefix, add_suffix"
   ]
  },
  {
   "cell_type": "code",
   "execution_count": 17,
   "id": "debf79d7",
   "metadata": {
    "execution": {
     "iopub.execute_input": "2025-01-08T17:10:25.659304Z",
     "iopub.status.busy": "2025-01-08T17:10:25.658976Z",
     "iopub.status.idle": "2025-01-08T17:10:25.673933Z",
     "shell.execute_reply": "2025-01-08T17:10:25.672956Z"
    },
    "papermill": {
     "duration": 0.02707,
     "end_time": "2025-01-08T17:10:25.675514",
     "exception": false,
     "start_time": "2025-01-08T17:10:25.648444",
     "status": "completed"
    },
    "tags": []
   },
   "outputs": [
    {
     "data": {
      "text/html": [
       "<div>\n",
       "<style scoped>\n",
       "    .dataframe tbody tr th:only-of-type {\n",
       "        vertical-align: middle;\n",
       "    }\n",
       "\n",
       "    .dataframe tbody tr th {\n",
       "        vertical-align: top;\n",
       "    }\n",
       "\n",
       "    .dataframe thead th {\n",
       "        text-align: right;\n",
       "    }\n",
       "</style>\n",
       "<table border=\"1\" class=\"dataframe\">\n",
       "  <thead>\n",
       "    <tr style=\"text-align: right;\">\n",
       "      <th></th>\n",
       "      <th>Glassdoor_C_Competitors</th>\n",
       "      <th>Glassdoor_C_Revenue</th>\n",
       "      <th>Glassdoor_C_Sector</th>\n",
       "      <th>Glassdoor_C_Industry</th>\n",
       "      <th>Glassdoor_C_Ownership Type</th>\n",
       "      <th>Glassdoor_C_Founded</th>\n",
       "      <th>Glassdoor_C_Size</th>\n",
       "      <th>Glassdoor_C_Headquarters</th>\n",
       "      <th>Glassdoor_C_Location</th>\n",
       "      <th>Glassdoor_C_Name</th>\n",
       "      <th>Glassdoor_C_Rating</th>\n",
       "      <th>Glassdoor_J_Description</th>\n",
       "      <th>Glassdoor_J_Salary</th>\n",
       "      <th>Glassdoor_J_Title</th>\n",
       "    </tr>\n",
       "  </thead>\n",
       "  <tbody>\n",
       "    <tr>\n",
       "      <th>0</th>\n",
       "      <td>EmblemHealth, UnitedHealth Group, Aetna</td>\n",
       "      <td>Unknown / Non-Applicable</td>\n",
       "      <td>Insurance</td>\n",
       "      <td>Insurance Carriers</td>\n",
       "      <td>Nonprofit Organization</td>\n",
       "      <td>1993</td>\n",
       "      <td>1001 to 5000 employees</td>\n",
       "      <td>New York, NY</td>\n",
       "      <td>New York, NY</td>\n",
       "      <td>Healthfirst\\n3.1</td>\n",
       "      <td>3.1</td>\n",
       "      <td>Description\\n\\nThe Senior Data Scientist is re...</td>\n",
       "      <td>$137K-$171K (Glassdoor est.)</td>\n",
       "      <td>Sr Data Scientist</td>\n",
       "    </tr>\n",
       "    <tr>\n",
       "      <th>1</th>\n",
       "      <td>-1</td>\n",
       "      <td>$1 to $2 billion (USD)</td>\n",
       "      <td>Business Services</td>\n",
       "      <td>Research &amp; Development</td>\n",
       "      <td>Company - Public</td>\n",
       "      <td>1968</td>\n",
       "      <td>5001 to 10000 employees</td>\n",
       "      <td>Herndon, VA</td>\n",
       "      <td>Chantilly, VA</td>\n",
       "      <td>ManTech\\n4.2</td>\n",
       "      <td>4.2</td>\n",
       "      <td>Secure our Nation, Ignite your Future\\n\\nJoin ...</td>\n",
       "      <td>$137K-$171K (Glassdoor est.)</td>\n",
       "      <td>Data Scientist</td>\n",
       "    </tr>\n",
       "    <tr>\n",
       "      <th>2</th>\n",
       "      <td>-1</td>\n",
       "      <td>$100 to $500 million (USD)</td>\n",
       "      <td>Business Services</td>\n",
       "      <td>Consulting</td>\n",
       "      <td>Private Practice / Firm</td>\n",
       "      <td>1981</td>\n",
       "      <td>1001 to 5000 employees</td>\n",
       "      <td>Boston, MA</td>\n",
       "      <td>Boston, MA</td>\n",
       "      <td>Analysis Group\\n3.8</td>\n",
       "      <td>3.8</td>\n",
       "      <td>Overview\\n\\n\\nAnalysis Group is one of the lar...</td>\n",
       "      <td>$137K-$171K (Glassdoor est.)</td>\n",
       "      <td>Data Scientist</td>\n",
       "    </tr>\n",
       "    <tr>\n",
       "      <th>3</th>\n",
       "      <td>MKS Instruments, Pfeiffer Vacuum, Agilent Tech...</td>\n",
       "      <td>$100 to $500 million (USD)</td>\n",
       "      <td>Manufacturing</td>\n",
       "      <td>Electrical &amp; Electronic Manufacturing</td>\n",
       "      <td>Company - Public</td>\n",
       "      <td>2000</td>\n",
       "      <td>501 to 1000 employees</td>\n",
       "      <td>Bad Ragaz, Switzerland</td>\n",
       "      <td>Newton, MA</td>\n",
       "      <td>INFICON\\n3.5</td>\n",
       "      <td>3.5</td>\n",
       "      <td>JOB DESCRIPTION:\\n\\nDo you have a passion for ...</td>\n",
       "      <td>$137K-$171K (Glassdoor est.)</td>\n",
       "      <td>Data Scientist</td>\n",
       "    </tr>\n",
       "    <tr>\n",
       "      <th>4</th>\n",
       "      <td>Commerce Signals, Cardlytics, Yodlee</td>\n",
       "      <td>Unknown / Non-Applicable</td>\n",
       "      <td>Business Services</td>\n",
       "      <td>Advertising &amp; Marketing</td>\n",
       "      <td>Company - Private</td>\n",
       "      <td>1998</td>\n",
       "      <td>51 to 200 employees</td>\n",
       "      <td>New York, NY</td>\n",
       "      <td>New York, NY</td>\n",
       "      <td>Affinity Solutions\\n2.9</td>\n",
       "      <td>2.9</td>\n",
       "      <td>Data Scientist\\nAffinity Solutions / Marketing...</td>\n",
       "      <td>$137K-$171K (Glassdoor est.)</td>\n",
       "      <td>NaN</td>\n",
       "    </tr>\n",
       "  </tbody>\n",
       "</table>\n",
       "</div>"
      ],
      "text/plain": [
       "                             Glassdoor_C_Competitors  \\\n",
       "0            EmblemHealth, UnitedHealth Group, Aetna   \n",
       "1                                                 -1   \n",
       "2                                                 -1   \n",
       "3  MKS Instruments, Pfeiffer Vacuum, Agilent Tech...   \n",
       "4               Commerce Signals, Cardlytics, Yodlee   \n",
       "\n",
       "          Glassdoor_C_Revenue Glassdoor_C_Sector  \\\n",
       "0    Unknown / Non-Applicable          Insurance   \n",
       "1      $1 to $2 billion (USD)  Business Services   \n",
       "2  $100 to $500 million (USD)  Business Services   \n",
       "3  $100 to $500 million (USD)      Manufacturing   \n",
       "4    Unknown / Non-Applicable  Business Services   \n",
       "\n",
       "                    Glassdoor_C_Industry Glassdoor_C_Ownership Type  \\\n",
       "0                     Insurance Carriers     Nonprofit Organization   \n",
       "1                 Research & Development           Company - Public   \n",
       "2                             Consulting    Private Practice / Firm   \n",
       "3  Electrical & Electronic Manufacturing           Company - Public   \n",
       "4                Advertising & Marketing          Company - Private   \n",
       "\n",
       "   Glassdoor_C_Founded         Glassdoor_C_Size Glassdoor_C_Headquarters  \\\n",
       "0                 1993   1001 to 5000 employees             New York, NY   \n",
       "1                 1968  5001 to 10000 employees              Herndon, VA   \n",
       "2                 1981   1001 to 5000 employees               Boston, MA   \n",
       "3                 2000    501 to 1000 employees   Bad Ragaz, Switzerland   \n",
       "4                 1998      51 to 200 employees             New York, NY   \n",
       "\n",
       "  Glassdoor_C_Location         Glassdoor_C_Name Glassdoor_C_Rating  \\\n",
       "0         New York, NY         Healthfirst\\n3.1                3.1   \n",
       "1        Chantilly, VA             ManTech\\n4.2                4.2   \n",
       "2           Boston, MA      Analysis Group\\n3.8                3.8   \n",
       "3           Newton, MA             INFICON\\n3.5                3.5   \n",
       "4         New York, NY  Affinity Solutions\\n2.9                2.9   \n",
       "\n",
       "                             Glassdoor_J_Description  \\\n",
       "0  Description\\n\\nThe Senior Data Scientist is re...   \n",
       "1  Secure our Nation, Ignite your Future\\n\\nJoin ...   \n",
       "2  Overview\\n\\n\\nAnalysis Group is one of the lar...   \n",
       "3  JOB DESCRIPTION:\\n\\nDo you have a passion for ...   \n",
       "4  Data Scientist\\nAffinity Solutions / Marketing...   \n",
       "\n",
       "             Glassdoor_J_Salary  Glassdoor_J_Title  \n",
       "0  $137K-$171K (Glassdoor est.)  Sr Data Scientist  \n",
       "1  $137K-$171K (Glassdoor est.)     Data Scientist  \n",
       "2  $137K-$171K (Glassdoor est.)     Data Scientist  \n",
       "3  $137K-$171K (Glassdoor est.)     Data Scientist  \n",
       "4  $137K-$171K (Glassdoor est.)                NaN  "
      ]
     },
     "execution_count": 17,
     "metadata": {},
     "output_type": "execute_result"
    }
   ],
   "source": [
    "# Adding prefix\n",
    "\n",
    "df2.add_prefix('Glassdoor_').head()"
   ]
  },
  {
   "cell_type": "markdown",
   "id": "aaa14d7e",
   "metadata": {
    "papermill": {
     "duration": 0.00961,
     "end_time": "2025-01-08T17:10:25.695486",
     "exception": false,
     "start_time": "2025-01-08T17:10:25.685876",
     "status": "completed"
    },
    "tags": []
   },
   "source": [
    "#### Reordering the Columns"
   ]
  },
  {
   "cell_type": "code",
   "execution_count": 18,
   "id": "366b4f02",
   "metadata": {
    "execution": {
     "iopub.execute_input": "2025-01-08T17:10:25.717690Z",
     "iopub.status.busy": "2025-01-08T17:10:25.717306Z",
     "iopub.status.idle": "2025-01-08T17:10:25.730980Z",
     "shell.execute_reply": "2025-01-08T17:10:25.729764Z"
    },
    "papermill": {
     "duration": 0.02655,
     "end_time": "2025-01-08T17:10:25.732705",
     "exception": false,
     "start_time": "2025-01-08T17:10:25.706155",
     "status": "completed"
    },
    "tags": []
   },
   "outputs": [
    {
     "data": {
      "text/html": [
       "<div>\n",
       "<style scoped>\n",
       "    .dataframe tbody tr th:only-of-type {\n",
       "        vertical-align: middle;\n",
       "    }\n",
       "\n",
       "    .dataframe tbody tr th {\n",
       "        vertical-align: top;\n",
       "    }\n",
       "\n",
       "    .dataframe thead th {\n",
       "        text-align: right;\n",
       "    }\n",
       "</style>\n",
       "<table border=\"1\" class=\"dataframe\">\n",
       "  <thead>\n",
       "    <tr style=\"text-align: right;\">\n",
       "      <th></th>\n",
       "      <th>C_Competitors</th>\n",
       "      <th>C_Revenue</th>\n",
       "      <th>C_Sector</th>\n",
       "      <th>C_Industry</th>\n",
       "      <th>C_Ownership Type</th>\n",
       "      <th>C_Founded</th>\n",
       "      <th>C_Size</th>\n",
       "      <th>C_Headquarters</th>\n",
       "      <th>C_Location</th>\n",
       "      <th>C_Name</th>\n",
       "      <th>C_Rating</th>\n",
       "      <th>J_Description</th>\n",
       "      <th>J_Salary</th>\n",
       "      <th>J_Title</th>\n",
       "    </tr>\n",
       "  </thead>\n",
       "  <tbody>\n",
       "    <tr>\n",
       "      <th>0</th>\n",
       "      <td>EmblemHealth, UnitedHealth Group, Aetna</td>\n",
       "      <td>Unknown / Non-Applicable</td>\n",
       "      <td>Insurance</td>\n",
       "      <td>Insurance Carriers</td>\n",
       "      <td>Nonprofit Organization</td>\n",
       "      <td>1993</td>\n",
       "      <td>1001 to 5000 employees</td>\n",
       "      <td>New York, NY</td>\n",
       "      <td>New York, NY</td>\n",
       "      <td>Healthfirst\\n3.1</td>\n",
       "      <td>3.1</td>\n",
       "      <td>Description\\n\\nThe Senior Data Scientist is re...</td>\n",
       "      <td>$137K-$171K (Glassdoor est.)</td>\n",
       "      <td>Sr Data Scientist</td>\n",
       "    </tr>\n",
       "    <tr>\n",
       "      <th>1</th>\n",
       "      <td>-1</td>\n",
       "      <td>$1 to $2 billion (USD)</td>\n",
       "      <td>Business Services</td>\n",
       "      <td>Research &amp; Development</td>\n",
       "      <td>Company - Public</td>\n",
       "      <td>1968</td>\n",
       "      <td>5001 to 10000 employees</td>\n",
       "      <td>Herndon, VA</td>\n",
       "      <td>Chantilly, VA</td>\n",
       "      <td>ManTech\\n4.2</td>\n",
       "      <td>4.2</td>\n",
       "      <td>Secure our Nation, Ignite your Future\\n\\nJoin ...</td>\n",
       "      <td>$137K-$171K (Glassdoor est.)</td>\n",
       "      <td>Data Scientist</td>\n",
       "    </tr>\n",
       "  </tbody>\n",
       "</table>\n",
       "</div>"
      ],
      "text/plain": [
       "                             C_Competitors                 C_Revenue  \\\n",
       "0  EmblemHealth, UnitedHealth Group, Aetna  Unknown / Non-Applicable   \n",
       "1                                       -1    $1 to $2 billion (USD)   \n",
       "\n",
       "            C_Sector              C_Industry        C_Ownership Type  \\\n",
       "0          Insurance      Insurance Carriers  Nonprofit Organization   \n",
       "1  Business Services  Research & Development        Company - Public   \n",
       "\n",
       "   C_Founded                   C_Size C_Headquarters     C_Location  \\\n",
       "0       1993   1001 to 5000 employees   New York, NY   New York, NY   \n",
       "1       1968  5001 to 10000 employees    Herndon, VA  Chantilly, VA   \n",
       "\n",
       "             C_Name C_Rating  \\\n",
       "0  Healthfirst\\n3.1      3.1   \n",
       "1      ManTech\\n4.2      4.2   \n",
       "\n",
       "                                       J_Description  \\\n",
       "0  Description\\n\\nThe Senior Data Scientist is re...   \n",
       "1  Secure our Nation, Ignite your Future\\n\\nJoin ...   \n",
       "\n",
       "                       J_Salary            J_Title  \n",
       "0  $137K-$171K (Glassdoor est.)  Sr Data Scientist  \n",
       "1  $137K-$171K (Glassdoor est.)     Data Scientist  "
      ]
     },
     "execution_count": 18,
     "metadata": {},
     "output_type": "execute_result"
    }
   ],
   "source": [
    "# 'J_' at front and '_C' at end\n",
    "# checking df\n",
    "df.head(2)"
   ]
  },
  {
   "cell_type": "code",
   "execution_count": 19,
   "id": "7d73c39b",
   "metadata": {
    "execution": {
     "iopub.execute_input": "2025-01-08T17:10:25.754946Z",
     "iopub.status.busy": "2025-01-08T17:10:25.754563Z",
     "iopub.status.idle": "2025-01-08T17:10:25.771180Z",
     "shell.execute_reply": "2025-01-08T17:10:25.770132Z"
    },
    "papermill": {
     "duration": 0.029712,
     "end_time": "2025-01-08T17:10:25.773037",
     "exception": false,
     "start_time": "2025-01-08T17:10:25.743325",
     "status": "completed"
    },
    "tags": []
   },
   "outputs": [
    {
     "data": {
      "text/html": [
       "<div>\n",
       "<style scoped>\n",
       "    .dataframe tbody tr th:only-of-type {\n",
       "        vertical-align: middle;\n",
       "    }\n",
       "\n",
       "    .dataframe tbody tr th {\n",
       "        vertical-align: top;\n",
       "    }\n",
       "\n",
       "    .dataframe thead th {\n",
       "        text-align: right;\n",
       "    }\n",
       "</style>\n",
       "<table border=\"1\" class=\"dataframe\">\n",
       "  <thead>\n",
       "    <tr style=\"text-align: right;\">\n",
       "      <th></th>\n",
       "      <th>J_Description</th>\n",
       "      <th>J_Salary</th>\n",
       "      <th>J_Title</th>\n",
       "      <th>C_Competitors</th>\n",
       "      <th>C_Revenue</th>\n",
       "      <th>C_Sector</th>\n",
       "      <th>C_Industry</th>\n",
       "      <th>C_Ownership Type</th>\n",
       "      <th>C_Founded</th>\n",
       "      <th>C_Size</th>\n",
       "      <th>C_Headquarters</th>\n",
       "      <th>C_Location</th>\n",
       "      <th>C_Name</th>\n",
       "      <th>C_Rating</th>\n",
       "    </tr>\n",
       "  </thead>\n",
       "  <tbody>\n",
       "    <tr>\n",
       "      <th>0</th>\n",
       "      <td>Description\\n\\nThe Senior Data Scientist is re...</td>\n",
       "      <td>$137K-$171K (Glassdoor est.)</td>\n",
       "      <td>Sr Data Scientist</td>\n",
       "      <td>EmblemHealth, UnitedHealth Group, Aetna</td>\n",
       "      <td>Unknown / Non-Applicable</td>\n",
       "      <td>Insurance</td>\n",
       "      <td>Insurance Carriers</td>\n",
       "      <td>Nonprofit Organization</td>\n",
       "      <td>1993</td>\n",
       "      <td>1001 to 5000 employees</td>\n",
       "      <td>New York, NY</td>\n",
       "      <td>New York, NY</td>\n",
       "      <td>Healthfirst\\n3.1</td>\n",
       "      <td>3.1</td>\n",
       "    </tr>\n",
       "    <tr>\n",
       "      <th>1</th>\n",
       "      <td>Secure our Nation, Ignite your Future\\n\\nJoin ...</td>\n",
       "      <td>$137K-$171K (Glassdoor est.)</td>\n",
       "      <td>Data Scientist</td>\n",
       "      <td>-1</td>\n",
       "      <td>$1 to $2 billion (USD)</td>\n",
       "      <td>Business Services</td>\n",
       "      <td>Research &amp; Development</td>\n",
       "      <td>Company - Public</td>\n",
       "      <td>1968</td>\n",
       "      <td>5001 to 10000 employees</td>\n",
       "      <td>Herndon, VA</td>\n",
       "      <td>Chantilly, VA</td>\n",
       "      <td>ManTech\\n4.2</td>\n",
       "      <td>4.2</td>\n",
       "    </tr>\n",
       "  </tbody>\n",
       "</table>\n",
       "</div>"
      ],
      "text/plain": [
       "                                       J_Description  \\\n",
       "0  Description\\n\\nThe Senior Data Scientist is re...   \n",
       "1  Secure our Nation, Ignite your Future\\n\\nJoin ...   \n",
       "\n",
       "                       J_Salary            J_Title  \\\n",
       "0  $137K-$171K (Glassdoor est.)  Sr Data Scientist   \n",
       "1  $137K-$171K (Glassdoor est.)     Data Scientist   \n",
       "\n",
       "                             C_Competitors                 C_Revenue  \\\n",
       "0  EmblemHealth, UnitedHealth Group, Aetna  Unknown / Non-Applicable   \n",
       "1                                       -1    $1 to $2 billion (USD)   \n",
       "\n",
       "            C_Sector              C_Industry        C_Ownership Type  \\\n",
       "0          Insurance      Insurance Carriers  Nonprofit Organization   \n",
       "1  Business Services  Research & Development        Company - Public   \n",
       "\n",
       "   C_Founded                   C_Size C_Headquarters     C_Location  \\\n",
       "0       1993   1001 to 5000 employees   New York, NY   New York, NY   \n",
       "1       1968  5001 to 10000 employees    Herndon, VA  Chantilly, VA   \n",
       "\n",
       "             C_Name C_Rating  \n",
       "0  Healthfirst\\n3.1      3.1  \n",
       "1      ManTech\\n4.2      4.2  "
      ]
     },
     "execution_count": 19,
     "metadata": {},
     "output_type": "execute_result"
    }
   ],
   "source": [
    "# Method 1\n",
    "df3 = df[['J_Description', 'J_Salary','J_Title','C_Competitors', 'C_Revenue', 'C_Sector', 'C_Industry',\n",
    "       'C_Ownership Type', 'C_Founded', 'C_Size', 'C_Headquarters',\n",
    "       'C_Location', 'C_Name', 'C_Rating']]\n",
    "df3.head(2)"
   ]
  },
  {
   "cell_type": "code",
   "execution_count": 20,
   "id": "755e5da9",
   "metadata": {
    "execution": {
     "iopub.execute_input": "2025-01-08T17:10:25.796044Z",
     "iopub.status.busy": "2025-01-08T17:10:25.795631Z",
     "iopub.status.idle": "2025-01-08T17:10:25.810289Z",
     "shell.execute_reply": "2025-01-08T17:10:25.809261Z"
    },
    "papermill": {
     "duration": 0.028001,
     "end_time": "2025-01-08T17:10:25.812005",
     "exception": false,
     "start_time": "2025-01-08T17:10:25.784004",
     "status": "completed"
    },
    "tags": []
   },
   "outputs": [
    {
     "data": {
      "text/html": [
       "<div>\n",
       "<style scoped>\n",
       "    .dataframe tbody tr th:only-of-type {\n",
       "        vertical-align: middle;\n",
       "    }\n",
       "\n",
       "    .dataframe tbody tr th {\n",
       "        vertical-align: top;\n",
       "    }\n",
       "\n",
       "    .dataframe thead th {\n",
       "        text-align: right;\n",
       "    }\n",
       "</style>\n",
       "<table border=\"1\" class=\"dataframe\">\n",
       "  <thead>\n",
       "    <tr style=\"text-align: right;\">\n",
       "      <th></th>\n",
       "      <th>J_Description</th>\n",
       "      <th>J_Salary</th>\n",
       "      <th>J_Title</th>\n",
       "      <th>C_Competitors</th>\n",
       "      <th>C_Revenue</th>\n",
       "      <th>C_Sector</th>\n",
       "      <th>C_Industry</th>\n",
       "      <th>C_Ownership Type</th>\n",
       "      <th>C_Founded</th>\n",
       "      <th>C_Size</th>\n",
       "      <th>C_Headquarters</th>\n",
       "      <th>C_Location</th>\n",
       "      <th>C_Name</th>\n",
       "      <th>C_Rating</th>\n",
       "    </tr>\n",
       "  </thead>\n",
       "  <tbody>\n",
       "    <tr>\n",
       "      <th>0</th>\n",
       "      <td>Description\\n\\nThe Senior Data Scientist is re...</td>\n",
       "      <td>$137K-$171K (Glassdoor est.)</td>\n",
       "      <td>Sr Data Scientist</td>\n",
       "      <td>EmblemHealth, UnitedHealth Group, Aetna</td>\n",
       "      <td>Unknown / Non-Applicable</td>\n",
       "      <td>Insurance</td>\n",
       "      <td>Insurance Carriers</td>\n",
       "      <td>Nonprofit Organization</td>\n",
       "      <td>1993</td>\n",
       "      <td>1001 to 5000 employees</td>\n",
       "      <td>New York, NY</td>\n",
       "      <td>New York, NY</td>\n",
       "      <td>Healthfirst\\n3.1</td>\n",
       "      <td>3.1</td>\n",
       "    </tr>\n",
       "    <tr>\n",
       "      <th>1</th>\n",
       "      <td>Secure our Nation, Ignite your Future\\n\\nJoin ...</td>\n",
       "      <td>$137K-$171K (Glassdoor est.)</td>\n",
       "      <td>Data Scientist</td>\n",
       "      <td>-1</td>\n",
       "      <td>$1 to $2 billion (USD)</td>\n",
       "      <td>Business Services</td>\n",
       "      <td>Research &amp; Development</td>\n",
       "      <td>Company - Public</td>\n",
       "      <td>1968</td>\n",
       "      <td>5001 to 10000 employees</td>\n",
       "      <td>Herndon, VA</td>\n",
       "      <td>Chantilly, VA</td>\n",
       "      <td>ManTech\\n4.2</td>\n",
       "      <td>4.2</td>\n",
       "    </tr>\n",
       "  </tbody>\n",
       "</table>\n",
       "</div>"
      ],
      "text/plain": [
       "                                       J_Description  \\\n",
       "0  Description\\n\\nThe Senior Data Scientist is re...   \n",
       "1  Secure our Nation, Ignite your Future\\n\\nJoin ...   \n",
       "\n",
       "                       J_Salary            J_Title  \\\n",
       "0  $137K-$171K (Glassdoor est.)  Sr Data Scientist   \n",
       "1  $137K-$171K (Glassdoor est.)     Data Scientist   \n",
       "\n",
       "                             C_Competitors                 C_Revenue  \\\n",
       "0  EmblemHealth, UnitedHealth Group, Aetna  Unknown / Non-Applicable   \n",
       "1                                       -1    $1 to $2 billion (USD)   \n",
       "\n",
       "            C_Sector              C_Industry        C_Ownership Type  \\\n",
       "0          Insurance      Insurance Carriers  Nonprofit Organization   \n",
       "1  Business Services  Research & Development        Company - Public   \n",
       "\n",
       "   C_Founded                   C_Size C_Headquarters     C_Location  \\\n",
       "0       1993   1001 to 5000 employees   New York, NY   New York, NY   \n",
       "1       1968  5001 to 10000 employees    Herndon, VA  Chantilly, VA   \n",
       "\n",
       "             C_Name C_Rating  \n",
       "0  Healthfirst\\n3.1      3.1  \n",
       "1      ManTech\\n4.2      4.2  "
      ]
     },
     "execution_count": 20,
     "metadata": {},
     "output_type": "execute_result"
    }
   ],
   "source": [
    "# Method- 2\n",
    "\n",
    "df [list(df.columns[11:14]) + list(df.columns[0:11]) ].head(2)"
   ]
  },
  {
   "cell_type": "code",
   "execution_count": 21,
   "id": "35b72f27",
   "metadata": {
    "execution": {
     "iopub.execute_input": "2025-01-08T17:10:25.835495Z",
     "iopub.status.busy": "2025-01-08T17:10:25.835154Z",
     "iopub.status.idle": "2025-01-08T17:10:25.849161Z",
     "shell.execute_reply": "2025-01-08T17:10:25.848143Z"
    },
    "papermill": {
     "duration": 0.027968,
     "end_time": "2025-01-08T17:10:25.850816",
     "exception": false,
     "start_time": "2025-01-08T17:10:25.822848",
     "status": "completed"
    },
    "tags": []
   },
   "outputs": [
    {
     "data": {
      "text/html": [
       "<div>\n",
       "<style scoped>\n",
       "    .dataframe tbody tr th:only-of-type {\n",
       "        vertical-align: middle;\n",
       "    }\n",
       "\n",
       "    .dataframe tbody tr th {\n",
       "        vertical-align: top;\n",
       "    }\n",
       "\n",
       "    .dataframe thead th {\n",
       "        text-align: right;\n",
       "    }\n",
       "</style>\n",
       "<table border=\"1\" class=\"dataframe\">\n",
       "  <thead>\n",
       "    <tr style=\"text-align: right;\">\n",
       "      <th></th>\n",
       "      <th>C_Competitors</th>\n",
       "      <th>C_Revenue</th>\n",
       "      <th>C_Sector</th>\n",
       "      <th>C_Industry</th>\n",
       "      <th>C_Ownership Type</th>\n",
       "      <th>C_Founded</th>\n",
       "      <th>C_Size</th>\n",
       "      <th>C_Headquarters</th>\n",
       "      <th>C_Location</th>\n",
       "      <th>C_Name</th>\n",
       "      <th>C_Rating</th>\n",
       "      <th>J_Description</th>\n",
       "      <th>J_Salary</th>\n",
       "      <th>J_Title</th>\n",
       "    </tr>\n",
       "  </thead>\n",
       "  <tbody>\n",
       "    <tr>\n",
       "      <th>0</th>\n",
       "      <td>EmblemHealth, UnitedHealth Group, Aetna</td>\n",
       "      <td>Unknown / Non-Applicable</td>\n",
       "      <td>Insurance</td>\n",
       "      <td>Insurance Carriers</td>\n",
       "      <td>Nonprofit Organization</td>\n",
       "      <td>1993</td>\n",
       "      <td>1001 to 5000 employees</td>\n",
       "      <td>New York, NY</td>\n",
       "      <td>New York, NY</td>\n",
       "      <td>Healthfirst\\n3.1</td>\n",
       "      <td>3.1</td>\n",
       "      <td>Description\\n\\nThe Senior Data Scientist is re...</td>\n",
       "      <td>$137K-$171K (Glassdoor est.)</td>\n",
       "      <td>Sr Data Scientist</td>\n",
       "    </tr>\n",
       "    <tr>\n",
       "      <th>1</th>\n",
       "      <td>-1</td>\n",
       "      <td>$1 to $2 billion (USD)</td>\n",
       "      <td>Business Services</td>\n",
       "      <td>Research &amp; Development</td>\n",
       "      <td>Company - Public</td>\n",
       "      <td>1968</td>\n",
       "      <td>5001 to 10000 employees</td>\n",
       "      <td>Herndon, VA</td>\n",
       "      <td>Chantilly, VA</td>\n",
       "      <td>ManTech\\n4.2</td>\n",
       "      <td>4.2</td>\n",
       "      <td>Secure our Nation, Ignite your Future\\n\\nJoin ...</td>\n",
       "      <td>$137K-$171K (Glassdoor est.)</td>\n",
       "      <td>Data Scientist</td>\n",
       "    </tr>\n",
       "  </tbody>\n",
       "</table>\n",
       "</div>"
      ],
      "text/plain": [
       "                             C_Competitors                 C_Revenue  \\\n",
       "0  EmblemHealth, UnitedHealth Group, Aetna  Unknown / Non-Applicable   \n",
       "1                                       -1    $1 to $2 billion (USD)   \n",
       "\n",
       "            C_Sector              C_Industry        C_Ownership Type  \\\n",
       "0          Insurance      Insurance Carriers  Nonprofit Organization   \n",
       "1  Business Services  Research & Development        Company - Public   \n",
       "\n",
       "   C_Founded                   C_Size C_Headquarters     C_Location  \\\n",
       "0       1993   1001 to 5000 employees   New York, NY   New York, NY   \n",
       "1       1968  5001 to 10000 employees    Herndon, VA  Chantilly, VA   \n",
       "\n",
       "             C_Name C_Rating  \\\n",
       "0  Healthfirst\\n3.1      3.1   \n",
       "1      ManTech\\n4.2      4.2   \n",
       "\n",
       "                                       J_Description  \\\n",
       "0  Description\\n\\nThe Senior Data Scientist is re...   \n",
       "1  Secure our Nation, Ignite your Future\\n\\nJoin ...   \n",
       "\n",
       "                       J_Salary            J_Title  \n",
       "0  $137K-$171K (Glassdoor est.)  Sr Data Scientist  \n",
       "1  $137K-$171K (Glassdoor est.)     Data Scientist  "
      ]
     },
     "execution_count": 21,
     "metadata": {},
     "output_type": "execute_result"
    }
   ],
   "source": [
    "# Method- 3 (More faster way)\n",
    "\n",
    "df.head(2)"
   ]
  },
  {
   "cell_type": "code",
   "execution_count": 22,
   "id": "272dbcef",
   "metadata": {
    "execution": {
     "iopub.execute_input": "2025-01-08T17:10:25.874516Z",
     "iopub.status.busy": "2025-01-08T17:10:25.874162Z",
     "iopub.status.idle": "2025-01-08T17:10:25.881713Z",
     "shell.execute_reply": "2025-01-08T17:10:25.880590Z"
    },
    "papermill": {
     "duration": 0.021444,
     "end_time": "2025-01-08T17:10:25.883409",
     "exception": false,
     "start_time": "2025-01-08T17:10:25.861965",
     "status": "completed"
    },
    "tags": []
   },
   "outputs": [
    {
     "data": {
      "text/plain": [
       "Index(['J_Title', 'J_Salary', 'J_Description', 'C_Rating', 'C_Name',\n",
       "       'C_Location', 'C_Headquarters', 'C_Size', 'C_Founded',\n",
       "       'C_Ownership Type', 'C_Industry', 'C_Sector', 'C_Revenue',\n",
       "       'C_Competitors'],\n",
       "      dtype='object')"
      ]
     },
     "execution_count": 22,
     "metadata": {},
     "output_type": "execute_result"
    }
   ],
   "source": [
    "# revesing using loc[]\n",
    "df = df.loc[:,::-1]\n",
    "df.columns"
   ]
  },
  {
   "cell_type": "code",
   "execution_count": 23,
   "id": "0511fa30",
   "metadata": {
    "execution": {
     "iopub.execute_input": "2025-01-08T17:10:25.906823Z",
     "iopub.status.busy": "2025-01-08T17:10:25.906419Z",
     "iopub.status.idle": "2025-01-08T17:10:25.920615Z",
     "shell.execute_reply": "2025-01-08T17:10:25.919566Z"
    },
    "papermill": {
     "duration": 0.027674,
     "end_time": "2025-01-08T17:10:25.922318",
     "exception": false,
     "start_time": "2025-01-08T17:10:25.894644",
     "status": "completed"
    },
    "tags": []
   },
   "outputs": [
    {
     "data": {
      "text/html": [
       "<div>\n",
       "<style scoped>\n",
       "    .dataframe tbody tr th:only-of-type {\n",
       "        vertical-align: middle;\n",
       "    }\n",
       "\n",
       "    .dataframe tbody tr th {\n",
       "        vertical-align: top;\n",
       "    }\n",
       "\n",
       "    .dataframe thead th {\n",
       "        text-align: right;\n",
       "    }\n",
       "</style>\n",
       "<table border=\"1\" class=\"dataframe\">\n",
       "  <thead>\n",
       "    <tr style=\"text-align: right;\">\n",
       "      <th></th>\n",
       "      <th>J_Title</th>\n",
       "      <th>J_Salary</th>\n",
       "      <th>J_Description</th>\n",
       "      <th>C_Rating</th>\n",
       "      <th>C_Name</th>\n",
       "      <th>C_Location</th>\n",
       "      <th>C_Headquarters</th>\n",
       "      <th>C_Size</th>\n",
       "      <th>C_Founded</th>\n",
       "      <th>C_Ownership Type</th>\n",
       "      <th>C_Industry</th>\n",
       "      <th>C_Sector</th>\n",
       "      <th>C_Revenue</th>\n",
       "      <th>C_Competitors</th>\n",
       "    </tr>\n",
       "  </thead>\n",
       "  <tbody>\n",
       "    <tr>\n",
       "      <th>0</th>\n",
       "      <td>Sr Data Scientist</td>\n",
       "      <td>$137K-$171K (Glassdoor est.)</td>\n",
       "      <td>Description\\n\\nThe Senior Data Scientist is re...</td>\n",
       "      <td>3.1</td>\n",
       "      <td>Healthfirst\\n3.1</td>\n",
       "      <td>New York, NY</td>\n",
       "      <td>New York, NY</td>\n",
       "      <td>1001 to 5000 employees</td>\n",
       "      <td>1993</td>\n",
       "      <td>Nonprofit Organization</td>\n",
       "      <td>Insurance Carriers</td>\n",
       "      <td>Insurance</td>\n",
       "      <td>Unknown / Non-Applicable</td>\n",
       "      <td>EmblemHealth, UnitedHealth Group, Aetna</td>\n",
       "    </tr>\n",
       "    <tr>\n",
       "      <th>1</th>\n",
       "      <td>Data Scientist</td>\n",
       "      <td>$137K-$171K (Glassdoor est.)</td>\n",
       "      <td>Secure our Nation, Ignite your Future\\n\\nJoin ...</td>\n",
       "      <td>4.2</td>\n",
       "      <td>ManTech\\n4.2</td>\n",
       "      <td>Chantilly, VA</td>\n",
       "      <td>Herndon, VA</td>\n",
       "      <td>5001 to 10000 employees</td>\n",
       "      <td>1968</td>\n",
       "      <td>Company - Public</td>\n",
       "      <td>Research &amp; Development</td>\n",
       "      <td>Business Services</td>\n",
       "      <td>$1 to $2 billion (USD)</td>\n",
       "      <td>-1</td>\n",
       "    </tr>\n",
       "  </tbody>\n",
       "</table>\n",
       "</div>"
      ],
      "text/plain": [
       "             J_Title                      J_Salary  \\\n",
       "0  Sr Data Scientist  $137K-$171K (Glassdoor est.)   \n",
       "1     Data Scientist  $137K-$171K (Glassdoor est.)   \n",
       "\n",
       "                                       J_Description C_Rating  \\\n",
       "0  Description\\n\\nThe Senior Data Scientist is re...      3.1   \n",
       "1  Secure our Nation, Ignite your Future\\n\\nJoin ...      4.2   \n",
       "\n",
       "             C_Name     C_Location C_Headquarters                   C_Size  \\\n",
       "0  Healthfirst\\n3.1   New York, NY   New York, NY   1001 to 5000 employees   \n",
       "1      ManTech\\n4.2  Chantilly, VA    Herndon, VA  5001 to 10000 employees   \n",
       "\n",
       "   C_Founded        C_Ownership Type              C_Industry  \\\n",
       "0       1993  Nonprofit Organization      Insurance Carriers   \n",
       "1       1968        Company - Public  Research & Development   \n",
       "\n",
       "            C_Sector                 C_Revenue  \\\n",
       "0          Insurance  Unknown / Non-Applicable   \n",
       "1  Business Services    $1 to $2 billion (USD)   \n",
       "\n",
       "                             C_Competitors  \n",
       "0  EmblemHealth, UnitedHealth Group, Aetna  \n",
       "1                                       -1  "
      ]
     },
     "execution_count": 23,
     "metadata": {},
     "output_type": "execute_result"
    }
   ],
   "source": [
    "df.head(2)"
   ]
  },
  {
   "cell_type": "code",
   "execution_count": 24,
   "id": "2e232402",
   "metadata": {
    "execution": {
     "iopub.execute_input": "2025-01-08T17:10:25.946034Z",
     "iopub.status.busy": "2025-01-08T17:10:25.945618Z",
     "iopub.status.idle": "2025-01-08T17:10:25.964757Z",
     "shell.execute_reply": "2025-01-08T17:10:25.963573Z"
    },
    "papermill": {
     "duration": 0.032897,
     "end_time": "2025-01-08T17:10:25.966593",
     "exception": false,
     "start_time": "2025-01-08T17:10:25.933696",
     "status": "completed"
    },
    "tags": []
   },
   "outputs": [
    {
     "name": "stdout",
     "output_type": "stream",
     "text": [
      "<class 'pandas.core.frame.DataFrame'>\n",
      "RangeIndex: 689 entries, 0 to 688\n",
      "Data columns (total 14 columns):\n",
      " #   Column            Non-Null Count  Dtype \n",
      "---  ------            --------------  ----- \n",
      " 0   J_Title           684 non-null    object\n",
      " 1   J_Salary          689 non-null    object\n",
      " 2   J_Description     689 non-null    object\n",
      " 3   C_Rating          684 non-null    object\n",
      " 4   C_Name            689 non-null    object\n",
      " 5   C_Location        689 non-null    object\n",
      " 6   C_Headquarters    689 non-null    object\n",
      " 7   C_Size            689 non-null    object\n",
      " 8   C_Founded         689 non-null    int64 \n",
      " 9   C_Ownership Type  689 non-null    object\n",
      " 10  C_Industry        689 non-null    object\n",
      " 11  C_Sector          689 non-null    object\n",
      " 12  C_Revenue         689 non-null    object\n",
      " 13  C_Competitors     689 non-null    object\n",
      "dtypes: int64(1), object(13)\n",
      "memory usage: 75.5+ KB\n"
     ]
    }
   ],
   "source": [
    "# data type of columns for \n",
    "\n",
    "df.info()"
   ]
  },
  {
   "cell_type": "markdown",
   "id": "ed44d3eb",
   "metadata": {
    "papermill": {
     "duration": 0.011016,
     "end_time": "2025-01-08T17:10:25.989359",
     "exception": false,
     "start_time": "2025-01-08T17:10:25.978343",
     "status": "completed"
    },
    "tags": []
   },
   "source": [
    "#### Cleaninig dataset >> checking nulls"
   ]
  },
  {
   "cell_type": "code",
   "execution_count": 25,
   "id": "cb13e0a1",
   "metadata": {
    "execution": {
     "iopub.execute_input": "2025-01-08T17:10:26.014113Z",
     "iopub.status.busy": "2025-01-08T17:10:26.013762Z",
     "iopub.status.idle": "2025-01-08T17:10:26.021583Z",
     "shell.execute_reply": "2025-01-08T17:10:26.020580Z"
    },
    "papermill": {
     "duration": 0.02288,
     "end_time": "2025-01-08T17:10:26.023421",
     "exception": false,
     "start_time": "2025-01-08T17:10:26.000541",
     "status": "completed"
    },
    "tags": []
   },
   "outputs": [
    {
     "data": {
      "text/plain": [
       "J_Title             5\n",
       "J_Salary            0\n",
       "J_Description       0\n",
       "C_Rating            5\n",
       "C_Name              0\n",
       "C_Location          0\n",
       "C_Headquarters      0\n",
       "C_Size              0\n",
       "C_Founded           0\n",
       "C_Ownership Type    0\n",
       "C_Industry          0\n",
       "C_Sector            0\n",
       "C_Revenue           0\n",
       "C_Competitors       0\n",
       "dtype: int64"
      ]
     },
     "execution_count": 25,
     "metadata": {},
     "output_type": "execute_result"
    }
   ],
   "source": [
    "# Checking null\n",
    "\n",
    "df.isna().sum()"
   ]
  },
  {
   "cell_type": "code",
   "execution_count": 26,
   "id": "33193770",
   "metadata": {
    "execution": {
     "iopub.execute_input": "2025-01-08T17:10:26.048588Z",
     "iopub.status.busy": "2025-01-08T17:10:26.048219Z",
     "iopub.status.idle": "2025-01-08T17:10:26.052386Z",
     "shell.execute_reply": "2025-01-08T17:10:26.051108Z"
    },
    "papermill": {
     "duration": 0.018627,
     "end_time": "2025-01-08T17:10:26.054376",
     "exception": false,
     "start_time": "2025-01-08T17:10:26.035749",
     "status": "completed"
    },
    "tags": []
   },
   "outputs": [],
   "source": [
    "# C_Rating is in object type, it should be numeric"
   ]
  },
  {
   "cell_type": "code",
   "execution_count": 27,
   "id": "992f8a7a",
   "metadata": {
    "execution": {
     "iopub.execute_input": "2025-01-08T17:10:26.079151Z",
     "iopub.status.busy": "2025-01-08T17:10:26.078800Z",
     "iopub.status.idle": "2025-01-08T17:10:26.096629Z",
     "shell.execute_reply": "2025-01-08T17:10:26.095548Z"
    },
    "papermill": {
     "duration": 0.031906,
     "end_time": "2025-01-08T17:10:26.098466",
     "exception": false,
     "start_time": "2025-01-08T17:10:26.066560",
     "status": "completed"
    },
    "tags": []
   },
   "outputs": [
    {
     "data": {
      "text/html": [
       "<div>\n",
       "<style scoped>\n",
       "    .dataframe tbody tr th:only-of-type {\n",
       "        vertical-align: middle;\n",
       "    }\n",
       "\n",
       "    .dataframe tbody tr th {\n",
       "        vertical-align: top;\n",
       "    }\n",
       "\n",
       "    .dataframe thead th {\n",
       "        text-align: right;\n",
       "    }\n",
       "</style>\n",
       "<table border=\"1\" class=\"dataframe\">\n",
       "  <thead>\n",
       "    <tr style=\"text-align: right;\">\n",
       "      <th></th>\n",
       "      <th>J_Title</th>\n",
       "      <th>J_Salary</th>\n",
       "      <th>J_Description</th>\n",
       "      <th>C_Rating</th>\n",
       "      <th>C_Name</th>\n",
       "      <th>C_Location</th>\n",
       "      <th>C_Headquarters</th>\n",
       "      <th>C_Size</th>\n",
       "      <th>C_Founded</th>\n",
       "      <th>C_Ownership Type</th>\n",
       "      <th>C_Industry</th>\n",
       "      <th>C_Sector</th>\n",
       "      <th>C_Revenue</th>\n",
       "      <th>C_Competitors</th>\n",
       "    </tr>\n",
       "  </thead>\n",
       "  <tbody>\n",
       "    <tr>\n",
       "      <th>49</th>\n",
       "      <td>Data Scientist</td>\n",
       "      <td>$75K-$131K (Glassdoor est.)</td>\n",
       "      <td>Company Description:\\nWhats it like to work at...</td>\n",
       "      <td>NaN</td>\n",
       "      <td>Quick Base\\n4.3</td>\n",
       "      <td>Cambridge, MA</td>\n",
       "      <td>Cambridge, MA</td>\n",
       "      <td>201 to 500 employees</td>\n",
       "      <td>1999</td>\n",
       "      <td>Company - Private</td>\n",
       "      <td>Enterprise Software &amp; Network Solutions</td>\n",
       "      <td>Information Technology</td>\n",
       "      <td>Unknown / Non-Applicable</td>\n",
       "      <td>-1</td>\n",
       "    </tr>\n",
       "    <tr>\n",
       "      <th>67</th>\n",
       "      <td>Data Scientist</td>\n",
       "      <td>$79K-$131K (Glassdoor est.)</td>\n",
       "      <td>As a member of the Data Science team, this rol...</td>\n",
       "      <td>NaN</td>\n",
       "      <td>Grid Dynamics\\n4.0</td>\n",
       "      <td>Santa Clara, CA</td>\n",
       "      <td>San Ramon, CA</td>\n",
       "      <td>1001 to 5000 employees</td>\n",
       "      <td>2006</td>\n",
       "      <td>Company - Private</td>\n",
       "      <td>Enterprise Software &amp; Network Solutions</td>\n",
       "      <td>Information Technology</td>\n",
       "      <td>$50 to $100 million (USD)</td>\n",
       "      <td>Luxoft, EPAM, Capgemini Invent</td>\n",
       "    </tr>\n",
       "    <tr>\n",
       "      <th>157</th>\n",
       "      <td>Experienced Data Scientist</td>\n",
       "      <td>$101K-$165K (Glassdoor est.)</td>\n",
       "      <td>*******Please Apply using this link: https://a...</td>\n",
       "      <td>NaN</td>\n",
       "      <td>Guzman &amp; Griffin Technologies (GGTI)\\n4.4</td>\n",
       "      <td>Washington, DC</td>\n",
       "      <td>Mays Landing, NJ</td>\n",
       "      <td>1 to 50 employees</td>\n",
       "      <td>1997</td>\n",
       "      <td>Company - Private</td>\n",
       "      <td>Federal Agencies</td>\n",
       "      <td>Government</td>\n",
       "      <td>Unknown / Non-Applicable</td>\n",
       "      <td>-1</td>\n",
       "    </tr>\n",
       "    <tr>\n",
       "      <th>350</th>\n",
       "      <td>Data Scientist</td>\n",
       "      <td>$122K-$146K (Glassdoor est.)</td>\n",
       "      <td>What will you be doing?\\n\\nThe Contractor shal...</td>\n",
       "      <td>NaN</td>\n",
       "      <td>Praxis Engineering\\n4.7</td>\n",
       "      <td>Chantilly, VA</td>\n",
       "      <td>Annapolis Junction, MD</td>\n",
       "      <td>201 to 500 employees</td>\n",
       "      <td>2002</td>\n",
       "      <td>Subsidiary or Business Segment</td>\n",
       "      <td>Computer Hardware &amp; Software</td>\n",
       "      <td>Information Technology</td>\n",
       "      <td>$100 to $500 million (USD)</td>\n",
       "      <td>Raytheon Technologies, Northrop Grumman, Booz ...</td>\n",
       "    </tr>\n",
       "    <tr>\n",
       "      <th>686</th>\n",
       "      <td>Data Scientist</td>\n",
       "      <td>$79K-$131K (Glassdoor est.)</td>\n",
       "      <td>As a member of the Data Science team, this rol...</td>\n",
       "      <td>NaN</td>\n",
       "      <td>Grid Dynamics\\n4.0</td>\n",
       "      <td>Santa Clara, CA</td>\n",
       "      <td>San Ramon, CA</td>\n",
       "      <td>1001 to 5000 employees</td>\n",
       "      <td>2006</td>\n",
       "      <td>Company - Private</td>\n",
       "      <td>Enterprise Software &amp; Network Solutions</td>\n",
       "      <td>Information Technology</td>\n",
       "      <td>$50 to $100 million (USD)</td>\n",
       "      <td>Luxoft, EPAM, Capgemini Invent</td>\n",
       "    </tr>\n",
       "  </tbody>\n",
       "</table>\n",
       "</div>"
      ],
      "text/plain": [
       "                        J_Title                      J_Salary  \\\n",
       "49               Data Scientist   $75K-$131K (Glassdoor est.)   \n",
       "67               Data Scientist   $79K-$131K (Glassdoor est.)   \n",
       "157  Experienced Data Scientist  $101K-$165K (Glassdoor est.)   \n",
       "350              Data Scientist  $122K-$146K (Glassdoor est.)   \n",
       "686              Data Scientist   $79K-$131K (Glassdoor est.)   \n",
       "\n",
       "                                         J_Description C_Rating  \\\n",
       "49   Company Description:\\nWhats it like to work at...      NaN   \n",
       "67   As a member of the Data Science team, this rol...      NaN   \n",
       "157  *******Please Apply using this link: https://a...      NaN   \n",
       "350  What will you be doing?\\n\\nThe Contractor shal...      NaN   \n",
       "686  As a member of the Data Science team, this rol...      NaN   \n",
       "\n",
       "                                        C_Name       C_Location  \\\n",
       "49                             Quick Base\\n4.3    Cambridge, MA   \n",
       "67                          Grid Dynamics\\n4.0  Santa Clara, CA   \n",
       "157  Guzman & Griffin Technologies (GGTI)\\n4.4   Washington, DC   \n",
       "350                    Praxis Engineering\\n4.7    Chantilly, VA   \n",
       "686                         Grid Dynamics\\n4.0  Santa Clara, CA   \n",
       "\n",
       "             C_Headquarters                  C_Size  C_Founded  \\\n",
       "49            Cambridge, MA    201 to 500 employees       1999   \n",
       "67            San Ramon, CA  1001 to 5000 employees       2006   \n",
       "157        Mays Landing, NJ       1 to 50 employees       1997   \n",
       "350  Annapolis Junction, MD    201 to 500 employees       2002   \n",
       "686           San Ramon, CA  1001 to 5000 employees       2006   \n",
       "\n",
       "                   C_Ownership Type                               C_Industry  \\\n",
       "49                Company - Private  Enterprise Software & Network Solutions   \n",
       "67                Company - Private  Enterprise Software & Network Solutions   \n",
       "157               Company - Private                         Federal Agencies   \n",
       "350  Subsidiary or Business Segment             Computer Hardware & Software   \n",
       "686               Company - Private  Enterprise Software & Network Solutions   \n",
       "\n",
       "                   C_Sector                   C_Revenue  \\\n",
       "49   Information Technology    Unknown / Non-Applicable   \n",
       "67   Information Technology   $50 to $100 million (USD)   \n",
       "157              Government    Unknown / Non-Applicable   \n",
       "350  Information Technology  $100 to $500 million (USD)   \n",
       "686  Information Technology   $50 to $100 million (USD)   \n",
       "\n",
       "                                         C_Competitors  \n",
       "49                                                  -1  \n",
       "67                      Luxoft, EPAM, Capgemini Invent  \n",
       "157                                                 -1  \n",
       "350  Raytheon Technologies, Northrop Grumman, Booz ...  \n",
       "686                     Luxoft, EPAM, Capgemini Invent  "
      ]
     },
     "execution_count": 27,
     "metadata": {},
     "output_type": "execute_result"
    }
   ],
   "source": [
    "df[df.C_Rating.isna()]"
   ]
  },
  {
   "cell_type": "code",
   "execution_count": 28,
   "id": "02b1d105",
   "metadata": {
    "execution": {
     "iopub.execute_input": "2025-01-08T17:10:26.123224Z",
     "iopub.status.busy": "2025-01-08T17:10:26.122888Z",
     "iopub.status.idle": "2025-01-08T17:10:26.141381Z",
     "shell.execute_reply": "2025-01-08T17:10:26.140358Z"
    },
    "papermill": {
     "duration": 0.033121,
     "end_time": "2025-01-08T17:10:26.143295",
     "exception": false,
     "start_time": "2025-01-08T17:10:26.110174",
     "status": "completed"
    },
    "tags": []
   },
   "outputs": [
    {
     "data": {
      "text/html": [
       "<div>\n",
       "<style scoped>\n",
       "    .dataframe tbody tr th:only-of-type {\n",
       "        vertical-align: middle;\n",
       "    }\n",
       "\n",
       "    .dataframe tbody tr th {\n",
       "        vertical-align: top;\n",
       "    }\n",
       "\n",
       "    .dataframe thead th {\n",
       "        text-align: right;\n",
       "    }\n",
       "</style>\n",
       "<table border=\"1\" class=\"dataframe\">\n",
       "  <thead>\n",
       "    <tr style=\"text-align: right;\">\n",
       "      <th></th>\n",
       "      <th>J_Title</th>\n",
       "      <th>J_Salary</th>\n",
       "      <th>J_Description</th>\n",
       "      <th>C_Rating</th>\n",
       "      <th>C_Name</th>\n",
       "      <th>C_Location</th>\n",
       "      <th>C_Headquarters</th>\n",
       "      <th>C_Size</th>\n",
       "      <th>C_Founded</th>\n",
       "      <th>C_Ownership Type</th>\n",
       "      <th>C_Industry</th>\n",
       "      <th>C_Sector</th>\n",
       "      <th>C_Revenue</th>\n",
       "      <th>C_Competitors</th>\n",
       "    </tr>\n",
       "  </thead>\n",
       "  <tbody>\n",
       "    <tr>\n",
       "      <th>0</th>\n",
       "      <td>Sr Data Scientist</td>\n",
       "      <td>$137K-$171K (Glassdoor est.)</td>\n",
       "      <td>Description\\n\\nThe Senior Data Scientist is re...</td>\n",
       "      <td>3.1</td>\n",
       "      <td>Healthfirst\\n3.1</td>\n",
       "      <td>New York, NY</td>\n",
       "      <td>New York, NY</td>\n",
       "      <td>1001 to 5000 employees</td>\n",
       "      <td>1993</td>\n",
       "      <td>Nonprofit Organization</td>\n",
       "      <td>Insurance Carriers</td>\n",
       "      <td>Insurance</td>\n",
       "      <td>Unknown / Non-Applicable</td>\n",
       "      <td>EmblemHealth, UnitedHealth Group, Aetna</td>\n",
       "    </tr>\n",
       "    <tr>\n",
       "      <th>1</th>\n",
       "      <td>Data Scientist</td>\n",
       "      <td>$137K-$171K (Glassdoor est.)</td>\n",
       "      <td>Secure our Nation, Ignite your Future\\n\\nJoin ...</td>\n",
       "      <td>4.2</td>\n",
       "      <td>ManTech\\n4.2</td>\n",
       "      <td>Chantilly, VA</td>\n",
       "      <td>Herndon, VA</td>\n",
       "      <td>5001 to 10000 employees</td>\n",
       "      <td>1968</td>\n",
       "      <td>Company - Public</td>\n",
       "      <td>Research &amp; Development</td>\n",
       "      <td>Business Services</td>\n",
       "      <td>$1 to $2 billion (USD)</td>\n",
       "      <td>-1</td>\n",
       "    </tr>\n",
       "    <tr>\n",
       "      <th>2</th>\n",
       "      <td>Data Scientist</td>\n",
       "      <td>$137K-$171K (Glassdoor est.)</td>\n",
       "      <td>Overview\\n\\n\\nAnalysis Group is one of the lar...</td>\n",
       "      <td>3.8</td>\n",
       "      <td>Analysis Group\\n3.8</td>\n",
       "      <td>Boston, MA</td>\n",
       "      <td>Boston, MA</td>\n",
       "      <td>1001 to 5000 employees</td>\n",
       "      <td>1981</td>\n",
       "      <td>Private Practice / Firm</td>\n",
       "      <td>Consulting</td>\n",
       "      <td>Business Services</td>\n",
       "      <td>$100 to $500 million (USD)</td>\n",
       "      <td>-1</td>\n",
       "    </tr>\n",
       "    <tr>\n",
       "      <th>3</th>\n",
       "      <td>Data Scientist</td>\n",
       "      <td>$137K-$171K (Glassdoor est.)</td>\n",
       "      <td>JOB DESCRIPTION:\\n\\nDo you have a passion for ...</td>\n",
       "      <td>3.5</td>\n",
       "      <td>INFICON\\n3.5</td>\n",
       "      <td>Newton, MA</td>\n",
       "      <td>Bad Ragaz, Switzerland</td>\n",
       "      <td>501 to 1000 employees</td>\n",
       "      <td>2000</td>\n",
       "      <td>Company - Public</td>\n",
       "      <td>Electrical &amp; Electronic Manufacturing</td>\n",
       "      <td>Manufacturing</td>\n",
       "      <td>$100 to $500 million (USD)</td>\n",
       "      <td>MKS Instruments, Pfeiffer Vacuum, Agilent Tech...</td>\n",
       "    </tr>\n",
       "    <tr>\n",
       "      <th>4</th>\n",
       "      <td>NaN</td>\n",
       "      <td>$137K-$171K (Glassdoor est.)</td>\n",
       "      <td>Data Scientist\\nAffinity Solutions / Marketing...</td>\n",
       "      <td>2.9</td>\n",
       "      <td>Affinity Solutions\\n2.9</td>\n",
       "      <td>New York, NY</td>\n",
       "      <td>New York, NY</td>\n",
       "      <td>51 to 200 employees</td>\n",
       "      <td>1998</td>\n",
       "      <td>Company - Private</td>\n",
       "      <td>Advertising &amp; Marketing</td>\n",
       "      <td>Business Services</td>\n",
       "      <td>Unknown / Non-Applicable</td>\n",
       "      <td>Commerce Signals, Cardlytics, Yodlee</td>\n",
       "    </tr>\n",
       "    <tr>\n",
       "      <th>...</th>\n",
       "      <td>...</td>\n",
       "      <td>...</td>\n",
       "      <td>...</td>\n",
       "      <td>...</td>\n",
       "      <td>...</td>\n",
       "      <td>...</td>\n",
       "      <td>...</td>\n",
       "      <td>...</td>\n",
       "      <td>...</td>\n",
       "      <td>...</td>\n",
       "      <td>...</td>\n",
       "      <td>...</td>\n",
       "      <td>...</td>\n",
       "      <td>...</td>\n",
       "    </tr>\n",
       "    <tr>\n",
       "      <th>683</th>\n",
       "      <td>Global Data Analyst</td>\n",
       "      <td>$79K-$131K (Glassdoor est.)</td>\n",
       "      <td>Global Data Analyst\\nJob Code\\n\\n3938\\n\\nLocat...</td>\n",
       "      <td>3.8</td>\n",
       "      <td>Dermalogica\\n3.8</td>\n",
       "      <td>Carson, CA</td>\n",
       "      <td>Carson, CA</td>\n",
       "      <td>201 to 500 employees</td>\n",
       "      <td>1986</td>\n",
       "      <td>Subsidiary or Business Segment</td>\n",
       "      <td>Consumer Products Manufacturing</td>\n",
       "      <td>Manufacturing</td>\n",
       "      <td>$100 to $500 million (USD)</td>\n",
       "      <td>IMAGE Skincare, Aveda, Kiehl's</td>\n",
       "    </tr>\n",
       "    <tr>\n",
       "      <th>684</th>\n",
       "      <td>Data Engineer</td>\n",
       "      <td>$79K-$131K (Glassdoor est.)</td>\n",
       "      <td>POSITION SUMMARY\\n\\n\\nThe candidate will be jo...</td>\n",
       "      <td>3.7</td>\n",
       "      <td>Bayview Asset Management\\n3.7</td>\n",
       "      <td>Coral Gables, FL</td>\n",
       "      <td>Coral Gables, FL</td>\n",
       "      <td>1001 to 5000 employees</td>\n",
       "      <td>1995</td>\n",
       "      <td>Company - Private</td>\n",
       "      <td>Investment Banking &amp; Asset Management</td>\n",
       "      <td>Finance</td>\n",
       "      <td>$100 to $500 million (USD)</td>\n",
       "      <td>-1</td>\n",
       "    </tr>\n",
       "    <tr>\n",
       "      <th>685</th>\n",
       "      <td>Data Scientist</td>\n",
       "      <td>$79K-$131K (Glassdoor est.)</td>\n",
       "      <td>As a Data Scientist, you'll utilize advanced q...</td>\n",
       "      <td>3.7</td>\n",
       "      <td>Via Transportation\\n3.7</td>\n",
       "      <td>New York, NY</td>\n",
       "      <td>New York, NY</td>\n",
       "      <td>501 to 1000 employees</td>\n",
       "      <td>2012</td>\n",
       "      <td>Company - Private</td>\n",
       "      <td>Internet</td>\n",
       "      <td>Information Technology</td>\n",
       "      <td>Unknown / Non-Applicable</td>\n",
       "      <td>-1</td>\n",
       "    </tr>\n",
       "    <tr>\n",
       "      <th>687</th>\n",
       "      <td>Data &amp; Machine Learning Scientist</td>\n",
       "      <td>$79K-$131K (Glassdoor est.)</td>\n",
       "      <td>Passionate about precision medicine and advanc...</td>\n",
       "      <td>3.3</td>\n",
       "      <td>Tempus Labs\\n3.3</td>\n",
       "      <td>Chicago, IL</td>\n",
       "      <td>Chicago, IL</td>\n",
       "      <td>501 to 1000 employees</td>\n",
       "      <td>2015</td>\n",
       "      <td>Company - Private</td>\n",
       "      <td>Biotech &amp; Pharmaceuticals</td>\n",
       "      <td>Biotech &amp; Pharmaceuticals</td>\n",
       "      <td>Unknown / Non-Applicable</td>\n",
       "      <td>-1</td>\n",
       "    </tr>\n",
       "    <tr>\n",
       "      <th>688</th>\n",
       "      <td>Data Scientist - Machine Learning</td>\n",
       "      <td>$79K-$131K (Glassdoor est.)</td>\n",
       "      <td>Headquartered in Brisbane, Calif., CareDx, Inc...</td>\n",
       "      <td>2.5</td>\n",
       "      <td>CareDx\\n2.5</td>\n",
       "      <td>Brisbane, CA</td>\n",
       "      <td>Brisbane, CA</td>\n",
       "      <td>1 to 50 employees</td>\n",
       "      <td>-1</td>\n",
       "      <td>Company - Private</td>\n",
       "      <td>Biotech &amp; Pharmaceuticals</td>\n",
       "      <td>Biotech &amp; Pharmaceuticals</td>\n",
       "      <td>Unknown / Non-Applicable</td>\n",
       "      <td>Sequenom</td>\n",
       "    </tr>\n",
       "  </tbody>\n",
       "</table>\n",
       "<p>684 rows × 14 columns</p>\n",
       "</div>"
      ],
      "text/plain": [
       "                               J_Title                      J_Salary  \\\n",
       "0                    Sr Data Scientist  $137K-$171K (Glassdoor est.)   \n",
       "1                       Data Scientist  $137K-$171K (Glassdoor est.)   \n",
       "2                       Data Scientist  $137K-$171K (Glassdoor est.)   \n",
       "3                       Data Scientist  $137K-$171K (Glassdoor est.)   \n",
       "4                                  NaN  $137K-$171K (Glassdoor est.)   \n",
       "..                                 ...                           ...   \n",
       "683                Global Data Analyst   $79K-$131K (Glassdoor est.)   \n",
       "684                      Data Engineer   $79K-$131K (Glassdoor est.)   \n",
       "685                     Data Scientist   $79K-$131K (Glassdoor est.)   \n",
       "687  Data & Machine Learning Scientist   $79K-$131K (Glassdoor est.)   \n",
       "688  Data Scientist - Machine Learning   $79K-$131K (Glassdoor est.)   \n",
       "\n",
       "                                         J_Description C_Rating  \\\n",
       "0    Description\\n\\nThe Senior Data Scientist is re...      3.1   \n",
       "1    Secure our Nation, Ignite your Future\\n\\nJoin ...      4.2   \n",
       "2    Overview\\n\\n\\nAnalysis Group is one of the lar...      3.8   \n",
       "3    JOB DESCRIPTION:\\n\\nDo you have a passion for ...      3.5   \n",
       "4    Data Scientist\\nAffinity Solutions / Marketing...      2.9   \n",
       "..                                                 ...      ...   \n",
       "683  Global Data Analyst\\nJob Code\\n\\n3938\\n\\nLocat...      3.8   \n",
       "684  POSITION SUMMARY\\n\\n\\nThe candidate will be jo...      3.7   \n",
       "685  As a Data Scientist, you'll utilize advanced q...      3.7   \n",
       "687  Passionate about precision medicine and advanc...      3.3   \n",
       "688  Headquartered in Brisbane, Calif., CareDx, Inc...      2.5   \n",
       "\n",
       "                            C_Name        C_Location          C_Headquarters  \\\n",
       "0                 Healthfirst\\n3.1      New York, NY            New York, NY   \n",
       "1                     ManTech\\n4.2     Chantilly, VA             Herndon, VA   \n",
       "2              Analysis Group\\n3.8        Boston, MA              Boston, MA   \n",
       "3                     INFICON\\n3.5        Newton, MA  Bad Ragaz, Switzerland   \n",
       "4          Affinity Solutions\\n2.9      New York, NY            New York, NY   \n",
       "..                             ...               ...                     ...   \n",
       "683               Dermalogica\\n3.8        Carson, CA              Carson, CA   \n",
       "684  Bayview Asset Management\\n3.7  Coral Gables, FL        Coral Gables, FL   \n",
       "685        Via Transportation\\n3.7      New York, NY            New York, NY   \n",
       "687               Tempus Labs\\n3.3       Chicago, IL             Chicago, IL   \n",
       "688                    CareDx\\n2.5      Brisbane, CA            Brisbane, CA   \n",
       "\n",
       "                      C_Size  C_Founded                C_Ownership Type  \\\n",
       "0     1001 to 5000 employees       1993          Nonprofit Organization   \n",
       "1    5001 to 10000 employees       1968                Company - Public   \n",
       "2     1001 to 5000 employees       1981         Private Practice / Firm   \n",
       "3      501 to 1000 employees       2000                Company - Public   \n",
       "4        51 to 200 employees       1998               Company - Private   \n",
       "..                       ...        ...                             ...   \n",
       "683     201 to 500 employees       1986  Subsidiary or Business Segment   \n",
       "684   1001 to 5000 employees       1995               Company - Private   \n",
       "685    501 to 1000 employees       2012               Company - Private   \n",
       "687    501 to 1000 employees       2015               Company - Private   \n",
       "688        1 to 50 employees         -1               Company - Private   \n",
       "\n",
       "                                C_Industry                   C_Sector  \\\n",
       "0                       Insurance Carriers                  Insurance   \n",
       "1                   Research & Development          Business Services   \n",
       "2                               Consulting          Business Services   \n",
       "3    Electrical & Electronic Manufacturing              Manufacturing   \n",
       "4                  Advertising & Marketing          Business Services   \n",
       "..                                     ...                        ...   \n",
       "683        Consumer Products Manufacturing              Manufacturing   \n",
       "684  Investment Banking & Asset Management                    Finance   \n",
       "685                               Internet     Information Technology   \n",
       "687              Biotech & Pharmaceuticals  Biotech & Pharmaceuticals   \n",
       "688              Biotech & Pharmaceuticals  Biotech & Pharmaceuticals   \n",
       "\n",
       "                      C_Revenue  \\\n",
       "0      Unknown / Non-Applicable   \n",
       "1        $1 to $2 billion (USD)   \n",
       "2    $100 to $500 million (USD)   \n",
       "3    $100 to $500 million (USD)   \n",
       "4      Unknown / Non-Applicable   \n",
       "..                          ...   \n",
       "683  $100 to $500 million (USD)   \n",
       "684  $100 to $500 million (USD)   \n",
       "685    Unknown / Non-Applicable   \n",
       "687    Unknown / Non-Applicable   \n",
       "688    Unknown / Non-Applicable   \n",
       "\n",
       "                                         C_Competitors  \n",
       "0              EmblemHealth, UnitedHealth Group, Aetna  \n",
       "1                                                   -1  \n",
       "2                                                   -1  \n",
       "3    MKS Instruments, Pfeiffer Vacuum, Agilent Tech...  \n",
       "4                 Commerce Signals, Cardlytics, Yodlee  \n",
       "..                                                 ...  \n",
       "683                     IMAGE Skincare, Aveda, Kiehl's  \n",
       "684                                                 -1  \n",
       "685                                                 -1  \n",
       "687                                                 -1  \n",
       "688                                           Sequenom  \n",
       "\n",
       "[684 rows x 14 columns]"
      ]
     },
     "execution_count": 28,
     "metadata": {},
     "output_type": "execute_result"
    }
   ],
   "source": [
    "# Not Null\n",
    "df[~df.C_Rating.isna()]"
   ]
  },
  {
   "cell_type": "code",
   "execution_count": 29,
   "id": "45f0837e",
   "metadata": {
    "execution": {
     "iopub.execute_input": "2025-01-08T17:10:26.169489Z",
     "iopub.status.busy": "2025-01-08T17:10:26.169138Z",
     "iopub.status.idle": "2025-01-08T17:10:26.176971Z",
     "shell.execute_reply": "2025-01-08T17:10:26.175560Z"
    },
    "papermill": {
     "duration": 0.022858,
     "end_time": "2025-01-08T17:10:26.178676",
     "exception": false,
     "start_time": "2025-01-08T17:10:26.155818",
     "status": "completed"
    },
    "tags": []
   },
   "outputs": [
    {
     "name": "stdout",
     "output_type": "stream",
     "text": [
      "4.4*\n",
      "/3.7\n",
      "3.8*/\n",
      "2*+.9\n"
     ]
    }
   ],
   "source": [
    "# Problematic values\n",
    "\n",
    "for i in (df[~df.C_Rating.isna()]['C_Rating']):\n",
    "    if len(i)>3:\n",
    "        print (i)      "
   ]
  },
  {
   "cell_type": "code",
   "execution_count": 30,
   "id": "7942bcd1",
   "metadata": {
    "execution": {
     "iopub.execute_input": "2025-01-08T17:10:26.205170Z",
     "iopub.status.busy": "2025-01-08T17:10:26.204831Z",
     "iopub.status.idle": "2025-01-08T17:10:26.219843Z",
     "shell.execute_reply": "2025-01-08T17:10:26.218688Z"
    },
    "papermill": {
     "duration": 0.03024,
     "end_time": "2025-01-08T17:10:26.221569",
     "exception": false,
     "start_time": "2025-01-08T17:10:26.191329",
     "status": "completed"
    },
    "tags": []
   },
   "outputs": [
    {
     "name": "stdout",
     "output_type": "stream",
     "text": [
      "Enormous Case: ['4.4*', '/3.7', '3.8*/', '2*+.9']\n"
     ]
    }
   ],
   "source": [
    "l=[]\n",
    "for i in (df['C_Rating']):\n",
    "    try:\n",
    "        pd.to_numeric(i)\n",
    "    except ValueError:\n",
    "        l.append(i)\n",
    "print('Enormous Case:', l)"
   ]
  },
  {
   "cell_type": "code",
   "execution_count": 31,
   "id": "e5f7399c",
   "metadata": {
    "execution": {
     "iopub.execute_input": "2025-01-08T17:10:26.247919Z",
     "iopub.status.busy": "2025-01-08T17:10:26.247474Z",
     "iopub.status.idle": "2025-01-08T17:10:26.255075Z",
     "shell.execute_reply": "2025-01-08T17:10:26.253911Z"
    },
    "papermill": {
     "duration": 0.022445,
     "end_time": "2025-01-08T17:10:26.256623",
     "exception": false,
     "start_time": "2025-01-08T17:10:26.234178",
     "status": "completed"
    },
    "tags": []
   },
   "outputs": [
    {
     "data": {
      "text/plain": [
       "Index([49, 67, 157, 350, 686], dtype='int64')"
      ]
     },
     "execution_count": 31,
     "metadata": {},
     "output_type": "execute_result"
    }
   ],
   "source": [
    "# null index of above values\n",
    "\n",
    "idx = df[df['C_Rating'].isna()].index\n",
    "idx"
   ]
  },
  {
   "cell_type": "code",
   "execution_count": 32,
   "id": "ee162f3f",
   "metadata": {
    "execution": {
     "iopub.execute_input": "2025-01-08T17:10:26.284904Z",
     "iopub.status.busy": "2025-01-08T17:10:26.284489Z",
     "iopub.status.idle": "2025-01-08T17:10:26.289855Z",
     "shell.execute_reply": "2025-01-08T17:10:26.288789Z"
    },
    "papermill": {
     "duration": 0.020563,
     "end_time": "2025-01-08T17:10:26.291475",
     "exception": false,
     "start_time": "2025-01-08T17:10:26.270912",
     "status": "completed"
    },
    "tags": []
   },
   "outputs": [],
   "source": [
    "# Replacing null\n",
    "\n",
    "lis = []\n",
    "\n",
    "for i in range(0,len(idx)):\n",
    "    lis.append(df.iloc[idx[i]]['C_Name'].split('\\n')[1])"
   ]
  },
  {
   "cell_type": "code",
   "execution_count": 33,
   "id": "ea1e54e7",
   "metadata": {
    "execution": {
     "iopub.execute_input": "2025-01-08T17:10:26.317829Z",
     "iopub.status.busy": "2025-01-08T17:10:26.317372Z",
     "iopub.status.idle": "2025-01-08T17:10:26.323186Z",
     "shell.execute_reply": "2025-01-08T17:10:26.322327Z"
    },
    "papermill": {
     "duration": 0.020788,
     "end_time": "2025-01-08T17:10:26.324920",
     "exception": false,
     "start_time": "2025-01-08T17:10:26.304132",
     "status": "completed"
    },
    "tags": []
   },
   "outputs": [
    {
     "data": {
      "text/plain": [
       "['4.3', '4.0', '4.4', '4.7', '4.0']"
      ]
     },
     "execution_count": 33,
     "metadata": {},
     "output_type": "execute_result"
    }
   ],
   "source": [
    "lis"
   ]
  },
  {
   "cell_type": "code",
   "execution_count": 34,
   "id": "4cf3d889",
   "metadata": {
    "execution": {
     "iopub.execute_input": "2025-01-08T17:10:26.352077Z",
     "iopub.status.busy": "2025-01-08T17:10:26.351704Z",
     "iopub.status.idle": "2025-01-08T17:10:26.356109Z",
     "shell.execute_reply": "2025-01-08T17:10:26.355099Z"
    },
    "papermill": {
     "duration": 0.019881,
     "end_time": "2025-01-08T17:10:26.357822",
     "exception": false,
     "start_time": "2025-01-08T17:10:26.337941",
     "status": "completed"
    },
    "tags": []
   },
   "outputs": [],
   "source": [
    "# Replacing values to respective location \n",
    "df.iloc[idx,3]=lis"
   ]
  },
  {
   "cell_type": "code",
   "execution_count": 35,
   "id": "b33bee76",
   "metadata": {
    "execution": {
     "iopub.execute_input": "2025-01-08T17:10:26.385063Z",
     "iopub.status.busy": "2025-01-08T17:10:26.384700Z",
     "iopub.status.idle": "2025-01-08T17:10:26.400092Z",
     "shell.execute_reply": "2025-01-08T17:10:26.399099Z"
    },
    "papermill": {
     "duration": 0.031008,
     "end_time": "2025-01-08T17:10:26.402017",
     "exception": false,
     "start_time": "2025-01-08T17:10:26.371009",
     "status": "completed"
    },
    "tags": []
   },
   "outputs": [
    {
     "data": {
      "text/html": [
       "<div>\n",
       "<style scoped>\n",
       "    .dataframe tbody tr th:only-of-type {\n",
       "        vertical-align: middle;\n",
       "    }\n",
       "\n",
       "    .dataframe tbody tr th {\n",
       "        vertical-align: top;\n",
       "    }\n",
       "\n",
       "    .dataframe thead th {\n",
       "        text-align: right;\n",
       "    }\n",
       "</style>\n",
       "<table border=\"1\" class=\"dataframe\">\n",
       "  <thead>\n",
       "    <tr style=\"text-align: right;\">\n",
       "      <th></th>\n",
       "      <th>J_Title</th>\n",
       "      <th>J_Salary</th>\n",
       "      <th>J_Description</th>\n",
       "      <th>C_Rating</th>\n",
       "      <th>C_Name</th>\n",
       "      <th>C_Location</th>\n",
       "      <th>C_Headquarters</th>\n",
       "      <th>C_Size</th>\n",
       "      <th>C_Founded</th>\n",
       "      <th>C_Ownership Type</th>\n",
       "      <th>C_Industry</th>\n",
       "      <th>C_Sector</th>\n",
       "      <th>C_Revenue</th>\n",
       "      <th>C_Competitors</th>\n",
       "    </tr>\n",
       "  </thead>\n",
       "  <tbody>\n",
       "    <tr>\n",
       "      <th>49</th>\n",
       "      <td>Data Scientist</td>\n",
       "      <td>$75K-$131K (Glassdoor est.)</td>\n",
       "      <td>Company Description:\\nWhats it like to work at...</td>\n",
       "      <td>4.3</td>\n",
       "      <td>Quick Base\\n4.3</td>\n",
       "      <td>Cambridge, MA</td>\n",
       "      <td>Cambridge, MA</td>\n",
       "      <td>201 to 500 employees</td>\n",
       "      <td>1999</td>\n",
       "      <td>Company - Private</td>\n",
       "      <td>Enterprise Software &amp; Network Solutions</td>\n",
       "      <td>Information Technology</td>\n",
       "      <td>Unknown / Non-Applicable</td>\n",
       "      <td>-1</td>\n",
       "    </tr>\n",
       "    <tr>\n",
       "      <th>67</th>\n",
       "      <td>Data Scientist</td>\n",
       "      <td>$79K-$131K (Glassdoor est.)</td>\n",
       "      <td>As a member of the Data Science team, this rol...</td>\n",
       "      <td>4.0</td>\n",
       "      <td>Grid Dynamics\\n4.0</td>\n",
       "      <td>Santa Clara, CA</td>\n",
       "      <td>San Ramon, CA</td>\n",
       "      <td>1001 to 5000 employees</td>\n",
       "      <td>2006</td>\n",
       "      <td>Company - Private</td>\n",
       "      <td>Enterprise Software &amp; Network Solutions</td>\n",
       "      <td>Information Technology</td>\n",
       "      <td>$50 to $100 million (USD)</td>\n",
       "      <td>Luxoft, EPAM, Capgemini Invent</td>\n",
       "    </tr>\n",
       "    <tr>\n",
       "      <th>157</th>\n",
       "      <td>Experienced Data Scientist</td>\n",
       "      <td>$101K-$165K (Glassdoor est.)</td>\n",
       "      <td>*******Please Apply using this link: https://a...</td>\n",
       "      <td>4.4</td>\n",
       "      <td>Guzman &amp; Griffin Technologies (GGTI)\\n4.4</td>\n",
       "      <td>Washington, DC</td>\n",
       "      <td>Mays Landing, NJ</td>\n",
       "      <td>1 to 50 employees</td>\n",
       "      <td>1997</td>\n",
       "      <td>Company - Private</td>\n",
       "      <td>Federal Agencies</td>\n",
       "      <td>Government</td>\n",
       "      <td>Unknown / Non-Applicable</td>\n",
       "      <td>-1</td>\n",
       "    </tr>\n",
       "    <tr>\n",
       "      <th>350</th>\n",
       "      <td>Data Scientist</td>\n",
       "      <td>$122K-$146K (Glassdoor est.)</td>\n",
       "      <td>What will you be doing?\\n\\nThe Contractor shal...</td>\n",
       "      <td>4.7</td>\n",
       "      <td>Praxis Engineering\\n4.7</td>\n",
       "      <td>Chantilly, VA</td>\n",
       "      <td>Annapolis Junction, MD</td>\n",
       "      <td>201 to 500 employees</td>\n",
       "      <td>2002</td>\n",
       "      <td>Subsidiary or Business Segment</td>\n",
       "      <td>Computer Hardware &amp; Software</td>\n",
       "      <td>Information Technology</td>\n",
       "      <td>$100 to $500 million (USD)</td>\n",
       "      <td>Raytheon Technologies, Northrop Grumman, Booz ...</td>\n",
       "    </tr>\n",
       "    <tr>\n",
       "      <th>686</th>\n",
       "      <td>Data Scientist</td>\n",
       "      <td>$79K-$131K (Glassdoor est.)</td>\n",
       "      <td>As a member of the Data Science team, this rol...</td>\n",
       "      <td>4.0</td>\n",
       "      <td>Grid Dynamics\\n4.0</td>\n",
       "      <td>Santa Clara, CA</td>\n",
       "      <td>San Ramon, CA</td>\n",
       "      <td>1001 to 5000 employees</td>\n",
       "      <td>2006</td>\n",
       "      <td>Company - Private</td>\n",
       "      <td>Enterprise Software &amp; Network Solutions</td>\n",
       "      <td>Information Technology</td>\n",
       "      <td>$50 to $100 million (USD)</td>\n",
       "      <td>Luxoft, EPAM, Capgemini Invent</td>\n",
       "    </tr>\n",
       "  </tbody>\n",
       "</table>\n",
       "</div>"
      ],
      "text/plain": [
       "                        J_Title                      J_Salary  \\\n",
       "49               Data Scientist   $75K-$131K (Glassdoor est.)   \n",
       "67               Data Scientist   $79K-$131K (Glassdoor est.)   \n",
       "157  Experienced Data Scientist  $101K-$165K (Glassdoor est.)   \n",
       "350              Data Scientist  $122K-$146K (Glassdoor est.)   \n",
       "686              Data Scientist   $79K-$131K (Glassdoor est.)   \n",
       "\n",
       "                                         J_Description C_Rating  \\\n",
       "49   Company Description:\\nWhats it like to work at...      4.3   \n",
       "67   As a member of the Data Science team, this rol...      4.0   \n",
       "157  *******Please Apply using this link: https://a...      4.4   \n",
       "350  What will you be doing?\\n\\nThe Contractor shal...      4.7   \n",
       "686  As a member of the Data Science team, this rol...      4.0   \n",
       "\n",
       "                                        C_Name       C_Location  \\\n",
       "49                             Quick Base\\n4.3    Cambridge, MA   \n",
       "67                          Grid Dynamics\\n4.0  Santa Clara, CA   \n",
       "157  Guzman & Griffin Technologies (GGTI)\\n4.4   Washington, DC   \n",
       "350                    Praxis Engineering\\n4.7    Chantilly, VA   \n",
       "686                         Grid Dynamics\\n4.0  Santa Clara, CA   \n",
       "\n",
       "             C_Headquarters                  C_Size  C_Founded  \\\n",
       "49            Cambridge, MA    201 to 500 employees       1999   \n",
       "67            San Ramon, CA  1001 to 5000 employees       2006   \n",
       "157        Mays Landing, NJ       1 to 50 employees       1997   \n",
       "350  Annapolis Junction, MD    201 to 500 employees       2002   \n",
       "686           San Ramon, CA  1001 to 5000 employees       2006   \n",
       "\n",
       "                   C_Ownership Type                               C_Industry  \\\n",
       "49                Company - Private  Enterprise Software & Network Solutions   \n",
       "67                Company - Private  Enterprise Software & Network Solutions   \n",
       "157               Company - Private                         Federal Agencies   \n",
       "350  Subsidiary or Business Segment             Computer Hardware & Software   \n",
       "686               Company - Private  Enterprise Software & Network Solutions   \n",
       "\n",
       "                   C_Sector                   C_Revenue  \\\n",
       "49   Information Technology    Unknown / Non-Applicable   \n",
       "67   Information Technology   $50 to $100 million (USD)   \n",
       "157              Government    Unknown / Non-Applicable   \n",
       "350  Information Technology  $100 to $500 million (USD)   \n",
       "686  Information Technology   $50 to $100 million (USD)   \n",
       "\n",
       "                                         C_Competitors  \n",
       "49                                                  -1  \n",
       "67                      Luxoft, EPAM, Capgemini Invent  \n",
       "157                                                 -1  \n",
       "350  Raytheon Technologies, Northrop Grumman, Booz ...  \n",
       "686                     Luxoft, EPAM, Capgemini Invent  "
      ]
     },
     "execution_count": 35,
     "metadata": {},
     "output_type": "execute_result"
    }
   ],
   "source": [
    "# checking Replacing values to respective location\n",
    "df.iloc[idx]"
   ]
  },
  {
   "cell_type": "code",
   "execution_count": 36,
   "id": "d3d21b74",
   "metadata": {
    "execution": {
     "iopub.execute_input": "2025-01-08T17:10:26.430504Z",
     "iopub.status.busy": "2025-01-08T17:10:26.430155Z",
     "iopub.status.idle": "2025-01-08T17:10:26.436588Z",
     "shell.execute_reply": "2025-01-08T17:10:26.435640Z"
    },
    "papermill": {
     "duration": 0.02317,
     "end_time": "2025-01-08T17:10:26.438272",
     "exception": false,
     "start_time": "2025-01-08T17:10:26.415102",
     "status": "completed"
    },
    "tags": []
   },
   "outputs": [
    {
     "data": {
      "text/plain": [
       "0"
      ]
     },
     "execution_count": 36,
     "metadata": {},
     "output_type": "execute_result"
    }
   ],
   "source": [
    "df.C_Rating.isna().sum()"
   ]
  },
  {
   "cell_type": "code",
   "execution_count": 37,
   "id": "aabadd6a",
   "metadata": {
    "execution": {
     "iopub.execute_input": "2025-01-08T17:10:26.467224Z",
     "iopub.status.busy": "2025-01-08T17:10:26.466896Z",
     "iopub.status.idle": "2025-01-08T17:10:26.472185Z",
     "shell.execute_reply": "2025-01-08T17:10:26.470742Z"
    },
    "papermill": {
     "duration": 0.022572,
     "end_time": "2025-01-08T17:10:26.474276",
     "exception": false,
     "start_time": "2025-01-08T17:10:26.451704",
     "status": "completed"
    },
    "tags": []
   },
   "outputs": [],
   "source": [
    "# Making function\n",
    "\n",
    "def cleaner(str):\n",
    "    cleaner_str  = ''.join(filter(lambda x: x in ('0123456789.'),str))\n",
    "    return float(cleaner_str)"
   ]
  },
  {
   "cell_type": "code",
   "execution_count": 38,
   "id": "276d52d3",
   "metadata": {
    "execution": {
     "iopub.execute_input": "2025-01-08T17:10:26.502723Z",
     "iopub.status.busy": "2025-01-08T17:10:26.502324Z",
     "iopub.status.idle": "2025-01-08T17:10:26.507955Z",
     "shell.execute_reply": "2025-01-08T17:10:26.506899Z"
    },
    "papermill": {
     "duration": 0.021951,
     "end_time": "2025-01-08T17:10:26.509574",
     "exception": false,
     "start_time": "2025-01-08T17:10:26.487623",
     "status": "completed"
    },
    "tags": []
   },
   "outputs": [],
   "source": [
    "#applying function\n",
    "df['C_Rating']= df['C_Rating'].apply(cleaner)"
   ]
  },
  {
   "cell_type": "code",
   "execution_count": 39,
   "id": "6421cb7c",
   "metadata": {
    "execution": {
     "iopub.execute_input": "2025-01-08T17:10:26.539076Z",
     "iopub.status.busy": "2025-01-08T17:10:26.538623Z",
     "iopub.status.idle": "2025-01-08T17:10:26.545237Z",
     "shell.execute_reply": "2025-01-08T17:10:26.544216Z"
    },
    "papermill": {
     "duration": 0.023603,
     "end_time": "2025-01-08T17:10:26.547049",
     "exception": false,
     "start_time": "2025-01-08T17:10:26.523446",
     "status": "completed"
    },
    "tags": []
   },
   "outputs": [
    {
     "data": {
      "text/plain": [
       "dtype('float64')"
      ]
     },
     "execution_count": 39,
     "metadata": {},
     "output_type": "execute_result"
    }
   ],
   "source": [
    "# Checking Shape\n",
    "df['C_Rating'].dtype"
   ]
  },
  {
   "cell_type": "code",
   "execution_count": 40,
   "id": "bacfbf3c",
   "metadata": {
    "execution": {
     "iopub.execute_input": "2025-01-08T17:10:26.575760Z",
     "iopub.status.busy": "2025-01-08T17:10:26.575375Z",
     "iopub.status.idle": "2025-01-08T17:10:26.588392Z",
     "shell.execute_reply": "2025-01-08T17:10:26.587255Z"
    },
    "papermill": {
     "duration": 0.029155,
     "end_time": "2025-01-08T17:10:26.590246",
     "exception": false,
     "start_time": "2025-01-08T17:10:26.561091",
     "status": "completed"
    },
    "tags": []
   },
   "outputs": [
    {
     "data": {
      "text/plain": [
       "count    689.000000\n",
       "mean       3.672859\n",
       "std        0.953591\n",
       "min        1.000000\n",
       "25%        3.400000\n",
       "50%        3.800000\n",
       "75%        4.300000\n",
       "max        5.600000\n",
       "Name: C_Rating, dtype: float64"
      ]
     },
     "execution_count": 40,
     "metadata": {},
     "output_type": "execute_result"
    }
   ],
   "source": [
    "# checking column\n",
    "\n",
    "df.C_Rating.describe()"
   ]
  },
  {
   "cell_type": "code",
   "execution_count": 41,
   "id": "d0f50781",
   "metadata": {
    "execution": {
     "iopub.execute_input": "2025-01-08T17:10:26.621593Z",
     "iopub.status.busy": "2025-01-08T17:10:26.621203Z",
     "iopub.status.idle": "2025-01-08T17:10:26.625572Z",
     "shell.execute_reply": "2025-01-08T17:10:26.624170Z"
    },
    "papermill": {
     "duration": 0.021386,
     "end_time": "2025-01-08T17:10:26.627421",
     "exception": false,
     "start_time": "2025-01-08T17:10:26.606035",
     "status": "completed"
    },
    "tags": []
   },
   "outputs": [],
   "source": [
    "# Now task is to clean >>> Clean >>> C_Name"
   ]
  },
  {
   "cell_type": "code",
   "execution_count": null,
   "id": "a383d26c",
   "metadata": {
    "papermill": {
     "duration": 0.013109,
     "end_time": "2025-01-08T17:10:26.654231",
     "exception": false,
     "start_time": "2025-01-08T17:10:26.641122",
     "status": "completed"
    },
    "tags": []
   },
   "outputs": [],
   "source": []
  },
  {
   "cell_type": "code",
   "execution_count": null,
   "id": "1a0a04b0",
   "metadata": {
    "papermill": {
     "duration": 0.012918,
     "end_time": "2025-01-08T17:10:26.680909",
     "exception": false,
     "start_time": "2025-01-08T17:10:26.667991",
     "status": "completed"
    },
    "tags": []
   },
   "outputs": [],
   "source": []
  }
 ],
 "metadata": {
  "kaggle": {
   "accelerator": "none",
   "dataSources": [
    {
     "datasetId": 6441865,
     "sourceId": 10396777,
     "sourceType": "datasetVersion"
    }
   ],
   "dockerImageVersionId": 30822,
   "isGpuEnabled": false,
   "isInternetEnabled": true,
   "language": "python",
   "sourceType": "notebook"
  },
  "kernelspec": {
   "display_name": "Python 3",
   "language": "python",
   "name": "python3"
  },
  "language_info": {
   "codemirror_mode": {
    "name": "ipython",
    "version": 3
   },
   "file_extension": ".py",
   "mimetype": "text/x-python",
   "name": "python",
   "nbconvert_exporter": "python",
   "pygments_lexer": "ipython3",
   "version": "3.10.12"
  },
  "papermill": {
   "default_parameters": {},
   "duration": 5.066327,
   "end_time": "2025-01-08T17:10:27.317424",
   "environment_variables": {},
   "exception": null,
   "input_path": "__notebook__.ipynb",
   "output_path": "__notebook__.ipynb",
   "parameters": {},
   "start_time": "2025-01-08T17:10:22.251097",
   "version": "2.6.0"
  }
 },
 "nbformat": 4,
 "nbformat_minor": 5
}
